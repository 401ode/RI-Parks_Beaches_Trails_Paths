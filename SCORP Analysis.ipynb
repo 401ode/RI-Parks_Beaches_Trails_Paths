{
 "cells": [
  {
   "cell_type": "code",
   "execution_count": 1,
   "metadata": {
    "collapsed": true
   },
   "outputs": [],
   "source": [
    "import pandas as pd\n",
    "import numpy as np\n",
    "from bs4 import BeautifulSoup\n",
    "import requests"
   ]
  },
  {
   "cell_type": "code",
   "execution_count": 80,
   "metadata": {
    "collapsed": false
   },
   "outputs": [],
   "source": [
    "scorp_master = r\"State Comprehensive Outdoor Recreation Plan Inventory of Facilities\\MasterSCORP_GoRI.xlsx\"\n",
    "sg = pd.read_excel(scorp_master)\n",
    "\n",
    "pj_file = r\"State Comprehensive Outdoor Recreation Plan Inventory of Facilities\\Projo_Beaches.csv\"\n",
    "pj = pd.read_csv(pj_file, encoding='iso-8859-1')"
   ]
  },
  {
   "cell_type": "code",
   "execution_count": 81,
   "metadata": {
    "collapsed": false
   },
   "outputs": [
    {
     "data": {
      "text/plain": [
       "Index(['ADA', 'About_Links', 'Acres_Miles', 'Active Rec', 'Additional_Names',\n",
       "       'Ball Field', 'Basketball Court', 'Beach', 'Bike Path', 'Boating',\n",
       "       'ConsJuri', 'ConsType', 'Contact_Info', 'Contact_Info_Seasonal',\n",
       "       'Description', 'Dogs_Allowed', 'Fishing', 'Football Field',\n",
       "       'GoRI_Incude_Suggestion', 'GoRI_TestFlag', 'GoRI_subset', 'Golf',\n",
       "       'Hunting', 'Ice Hockey Rink', 'LWCFGrant', 'Lat', 'Lon', 'Map_Links',\n",
       "       'Multi-use Field', 'Name', 'NoGoRI_Incude_Why', 'OBJECTID', 'OwnerTyp',\n",
       "       'Picnic_Area', 'Playground', 'Pool', 'RestRoom', 'Short_Description',\n",
       "       'Skate Park', 'Soccer Field', 'StateGrant', 'Steward', 'Street',\n",
       "       'Street Hockey Rink', 'Stroller_Friendly', 'Tennis', 'Town', 'Track',\n",
       "       'Trails', 'Type', 'Volleyball Court', 'Walking Path', 'KeyID'],\n",
       "      dtype='object')"
      ]
     },
     "execution_count": 81,
     "metadata": {},
     "output_type": "execute_result"
    }
   ],
   "source": [
    "sg.columns"
   ]
  },
  {
   "cell_type": "code",
   "execution_count": 83,
   "metadata": {
    "collapsed": false
   },
   "outputs": [
    {
     "data": {
      "text/plain": [
       "991"
      ]
     },
     "execution_count": 83,
     "metadata": {},
     "output_type": "execute_result"
    }
   ],
   "source": [
    "len(sg)"
   ]
  },
  {
   "cell_type": "code",
   "execution_count": 92,
   "metadata": {
    "collapsed": false
   },
   "outputs": [],
   "source": [
    "test5 = sg[['Pool','Beach']]"
   ]
  },
  {
   "cell_type": "code",
   "execution_count": 94,
   "metadata": {
    "collapsed": false
   },
   "outputs": [
    {
     "data": {
      "text/html": [
       "<div>\n",
       "<table border=\"1\" class=\"dataframe\">\n",
       "  <thead>\n",
       "    <tr style=\"text-align: right;\">\n",
       "      <th></th>\n",
       "      <th>Pool</th>\n",
       "      <th>Beach</th>\n",
       "    </tr>\n",
       "  </thead>\n",
       "  <tbody>\n",
       "    <tr>\n",
       "      <th>0</th>\n",
       "      <td>False</td>\n",
       "      <td>False</td>\n",
       "    </tr>\n",
       "    <tr>\n",
       "      <th>1</th>\n",
       "      <td>False</td>\n",
       "      <td>False</td>\n",
       "    </tr>\n",
       "    <tr>\n",
       "      <th>2</th>\n",
       "      <td>False</td>\n",
       "      <td>True</td>\n",
       "    </tr>\n",
       "    <tr>\n",
       "      <th>3</th>\n",
       "      <td>False</td>\n",
       "      <td>False</td>\n",
       "    </tr>\n",
       "    <tr>\n",
       "      <th>4</th>\n",
       "      <td>False</td>\n",
       "      <td>False</td>\n",
       "    </tr>\n",
       "    <tr>\n",
       "      <th>5</th>\n",
       "      <td>False</td>\n",
       "      <td>False</td>\n",
       "    </tr>\n",
       "    <tr>\n",
       "      <th>6</th>\n",
       "      <td>False</td>\n",
       "      <td>False</td>\n",
       "    </tr>\n",
       "    <tr>\n",
       "      <th>7</th>\n",
       "      <td>False</td>\n",
       "      <td>False</td>\n",
       "    </tr>\n",
       "    <tr>\n",
       "      <th>8</th>\n",
       "      <td>False</td>\n",
       "      <td>False</td>\n",
       "    </tr>\n",
       "    <tr>\n",
       "      <th>9</th>\n",
       "      <td>False</td>\n",
       "      <td>False</td>\n",
       "    </tr>\n",
       "    <tr>\n",
       "      <th>10</th>\n",
       "      <td>False</td>\n",
       "      <td>False</td>\n",
       "    </tr>\n",
       "    <tr>\n",
       "      <th>11</th>\n",
       "      <td>False</td>\n",
       "      <td>False</td>\n",
       "    </tr>\n",
       "    <tr>\n",
       "      <th>12</th>\n",
       "      <td>False</td>\n",
       "      <td>False</td>\n",
       "    </tr>\n",
       "    <tr>\n",
       "      <th>13</th>\n",
       "      <td>False</td>\n",
       "      <td>False</td>\n",
       "    </tr>\n",
       "    <tr>\n",
       "      <th>14</th>\n",
       "      <td>False</td>\n",
       "      <td>False</td>\n",
       "    </tr>\n",
       "    <tr>\n",
       "      <th>15</th>\n",
       "      <td>False</td>\n",
       "      <td>False</td>\n",
       "    </tr>\n",
       "    <tr>\n",
       "      <th>16</th>\n",
       "      <td>False</td>\n",
       "      <td>False</td>\n",
       "    </tr>\n",
       "    <tr>\n",
       "      <th>17</th>\n",
       "      <td>False</td>\n",
       "      <td>False</td>\n",
       "    </tr>\n",
       "    <tr>\n",
       "      <th>18</th>\n",
       "      <td>False</td>\n",
       "      <td>False</td>\n",
       "    </tr>\n",
       "    <tr>\n",
       "      <th>19</th>\n",
       "      <td>False</td>\n",
       "      <td>False</td>\n",
       "    </tr>\n",
       "    <tr>\n",
       "      <th>20</th>\n",
       "      <td>False</td>\n",
       "      <td>False</td>\n",
       "    </tr>\n",
       "    <tr>\n",
       "      <th>21</th>\n",
       "      <td>False</td>\n",
       "      <td>False</td>\n",
       "    </tr>\n",
       "    <tr>\n",
       "      <th>22</th>\n",
       "      <td>False</td>\n",
       "      <td>False</td>\n",
       "    </tr>\n",
       "    <tr>\n",
       "      <th>23</th>\n",
       "      <td>False</td>\n",
       "      <td>False</td>\n",
       "    </tr>\n",
       "    <tr>\n",
       "      <th>24</th>\n",
       "      <td>False</td>\n",
       "      <td>False</td>\n",
       "    </tr>\n",
       "    <tr>\n",
       "      <th>25</th>\n",
       "      <td>False</td>\n",
       "      <td>False</td>\n",
       "    </tr>\n",
       "    <tr>\n",
       "      <th>26</th>\n",
       "      <td>False</td>\n",
       "      <td>False</td>\n",
       "    </tr>\n",
       "    <tr>\n",
       "      <th>27</th>\n",
       "      <td>False</td>\n",
       "      <td>False</td>\n",
       "    </tr>\n",
       "    <tr>\n",
       "      <th>28</th>\n",
       "      <td>False</td>\n",
       "      <td>False</td>\n",
       "    </tr>\n",
       "    <tr>\n",
       "      <th>29</th>\n",
       "      <td>False</td>\n",
       "      <td>False</td>\n",
       "    </tr>\n",
       "    <tr>\n",
       "      <th>...</th>\n",
       "      <td>...</td>\n",
       "      <td>...</td>\n",
       "    </tr>\n",
       "    <tr>\n",
       "      <th>961</th>\n",
       "      <td>False</td>\n",
       "      <td>False</td>\n",
       "    </tr>\n",
       "    <tr>\n",
       "      <th>962</th>\n",
       "      <td>False</td>\n",
       "      <td>False</td>\n",
       "    </tr>\n",
       "    <tr>\n",
       "      <th>963</th>\n",
       "      <td>False</td>\n",
       "      <td>False</td>\n",
       "    </tr>\n",
       "    <tr>\n",
       "      <th>964</th>\n",
       "      <td>False</td>\n",
       "      <td>False</td>\n",
       "    </tr>\n",
       "    <tr>\n",
       "      <th>965</th>\n",
       "      <td>False</td>\n",
       "      <td>False</td>\n",
       "    </tr>\n",
       "    <tr>\n",
       "      <th>966</th>\n",
       "      <td>False</td>\n",
       "      <td>False</td>\n",
       "    </tr>\n",
       "    <tr>\n",
       "      <th>967</th>\n",
       "      <td>False</td>\n",
       "      <td>False</td>\n",
       "    </tr>\n",
       "    <tr>\n",
       "      <th>968</th>\n",
       "      <td>False</td>\n",
       "      <td>False</td>\n",
       "    </tr>\n",
       "    <tr>\n",
       "      <th>969</th>\n",
       "      <td>False</td>\n",
       "      <td>False</td>\n",
       "    </tr>\n",
       "    <tr>\n",
       "      <th>970</th>\n",
       "      <td>False</td>\n",
       "      <td>False</td>\n",
       "    </tr>\n",
       "    <tr>\n",
       "      <th>971</th>\n",
       "      <td>False</td>\n",
       "      <td>False</td>\n",
       "    </tr>\n",
       "    <tr>\n",
       "      <th>972</th>\n",
       "      <td>False</td>\n",
       "      <td>False</td>\n",
       "    </tr>\n",
       "    <tr>\n",
       "      <th>973</th>\n",
       "      <td>False</td>\n",
       "      <td>False</td>\n",
       "    </tr>\n",
       "    <tr>\n",
       "      <th>974</th>\n",
       "      <td>False</td>\n",
       "      <td>False</td>\n",
       "    </tr>\n",
       "    <tr>\n",
       "      <th>975</th>\n",
       "      <td>False</td>\n",
       "      <td>False</td>\n",
       "    </tr>\n",
       "    <tr>\n",
       "      <th>976</th>\n",
       "      <td>False</td>\n",
       "      <td>False</td>\n",
       "    </tr>\n",
       "    <tr>\n",
       "      <th>977</th>\n",
       "      <td>False</td>\n",
       "      <td>False</td>\n",
       "    </tr>\n",
       "    <tr>\n",
       "      <th>978</th>\n",
       "      <td>False</td>\n",
       "      <td>False</td>\n",
       "    </tr>\n",
       "    <tr>\n",
       "      <th>979</th>\n",
       "      <td>False</td>\n",
       "      <td>False</td>\n",
       "    </tr>\n",
       "    <tr>\n",
       "      <th>980</th>\n",
       "      <td>False</td>\n",
       "      <td>False</td>\n",
       "    </tr>\n",
       "    <tr>\n",
       "      <th>981</th>\n",
       "      <td>False</td>\n",
       "      <td>False</td>\n",
       "    </tr>\n",
       "    <tr>\n",
       "      <th>982</th>\n",
       "      <td>False</td>\n",
       "      <td>False</td>\n",
       "    </tr>\n",
       "    <tr>\n",
       "      <th>983</th>\n",
       "      <td>False</td>\n",
       "      <td>False</td>\n",
       "    </tr>\n",
       "    <tr>\n",
       "      <th>984</th>\n",
       "      <td>False</td>\n",
       "      <td>False</td>\n",
       "    </tr>\n",
       "    <tr>\n",
       "      <th>985</th>\n",
       "      <td>False</td>\n",
       "      <td>False</td>\n",
       "    </tr>\n",
       "    <tr>\n",
       "      <th>986</th>\n",
       "      <td>False</td>\n",
       "      <td>False</td>\n",
       "    </tr>\n",
       "    <tr>\n",
       "      <th>987</th>\n",
       "      <td>False</td>\n",
       "      <td>False</td>\n",
       "    </tr>\n",
       "    <tr>\n",
       "      <th>988</th>\n",
       "      <td>False</td>\n",
       "      <td>False</td>\n",
       "    </tr>\n",
       "    <tr>\n",
       "      <th>989</th>\n",
       "      <td>False</td>\n",
       "      <td>False</td>\n",
       "    </tr>\n",
       "    <tr>\n",
       "      <th>990</th>\n",
       "      <td>False</td>\n",
       "      <td>False</td>\n",
       "    </tr>\n",
       "  </tbody>\n",
       "</table>\n",
       "<p>991 rows × 2 columns</p>\n",
       "</div>"
      ],
      "text/plain": [
       "      Pool  Beach\n",
       "0    False  False\n",
       "1    False  False\n",
       "2    False   True\n",
       "3    False  False\n",
       "4    False  False\n",
       "5    False  False\n",
       "6    False  False\n",
       "7    False  False\n",
       "8    False  False\n",
       "9    False  False\n",
       "10   False  False\n",
       "11   False  False\n",
       "12   False  False\n",
       "13   False  False\n",
       "14   False  False\n",
       "15   False  False\n",
       "16   False  False\n",
       "17   False  False\n",
       "18   False  False\n",
       "19   False  False\n",
       "20   False  False\n",
       "21   False  False\n",
       "22   False  False\n",
       "23   False  False\n",
       "24   False  False\n",
       "25   False  False\n",
       "26   False  False\n",
       "27   False  False\n",
       "28   False  False\n",
       "29   False  False\n",
       "..     ...    ...\n",
       "961  False  False\n",
       "962  False  False\n",
       "963  False  False\n",
       "964  False  False\n",
       "965  False  False\n",
       "966  False  False\n",
       "967  False  False\n",
       "968  False  False\n",
       "969  False  False\n",
       "970  False  False\n",
       "971  False  False\n",
       "972  False  False\n",
       "973  False  False\n",
       "974  False  False\n",
       "975  False  False\n",
       "976  False  False\n",
       "977  False  False\n",
       "978  False  False\n",
       "979  False  False\n",
       "980  False  False\n",
       "981  False  False\n",
       "982  False  False\n",
       "983  False  False\n",
       "984  False  False\n",
       "985  False  False\n",
       "986  False  False\n",
       "987  False  False\n",
       "988  False  False\n",
       "989  False  False\n",
       "990  False  False\n",
       "\n",
       "[991 rows x 2 columns]"
      ]
     },
     "execution_count": 94,
     "metadata": {},
     "output_type": "execute_result"
    }
   ],
   "source": [
    "test5 == 1"
   ]
  },
  {
   "cell_type": "code",
   "execution_count": null,
   "metadata": {
    "collapsed": true
   },
   "outputs": [],
   "source": []
  },
  {
   "cell_type": "code",
   "execution_count": null,
   "metadata": {
    "collapsed": true
   },
   "outputs": [],
   "source": []
  },
  {
   "cell_type": "code",
   "execution_count": null,
   "metadata": {
    "collapsed": true
   },
   "outputs": [],
   "source": []
  },
  {
   "cell_type": "code",
   "execution_count": null,
   "metadata": {
    "collapsed": true
   },
   "outputs": [],
   "source": []
  },
  {
   "cell_type": "code",
   "execution_count": null,
   "metadata": {
    "collapsed": true
   },
   "outputs": [],
   "source": []
  },
  {
   "cell_type": "code",
   "execution_count": null,
   "metadata": {
    "collapsed": true
   },
   "outputs": [],
   "source": []
  },
  {
   "cell_type": "code",
   "execution_count": 87,
   "metadata": {
    "collapsed": false
   },
   "outputs": [
    {
     "data": {
      "text/plain": [
       "<pandas.core.indexing._LocIndexer at 0x2abc1bb3c88>"
      ]
     },
     "execution_count": 87,
     "metadata": {},
     "output_type": "execute_result"
    }
   ],
   "source": [
    "test5"
   ]
  },
  {
   "cell_type": "code",
   "execution_count": null,
   "metadata": {
    "collapsed": true
   },
   "outputs": [],
   "source": []
  },
  {
   "cell_type": "code",
   "execution_count": null,
   "metadata": {
    "collapsed": true
   },
   "outputs": [],
   "source": []
  },
  {
   "cell_type": "code",
   "execution_count": null,
   "metadata": {
    "collapsed": true
   },
   "outputs": [],
   "source": []
  },
  {
   "cell_type": "code",
   "execution_count": null,
   "metadata": {
    "collapsed": true
   },
   "outputs": [],
   "source": []
  },
  {
   "cell_type": "code",
   "execution_count": null,
   "metadata": {
    "collapsed": true
   },
   "outputs": [],
   "source": []
  },
  {
   "cell_type": "code",
   "execution_count": null,
   "metadata": {
    "collapsed": true
   },
   "outputs": [],
   "source": []
  },
  {
   "cell_type": "code",
   "execution_count": null,
   "metadata": {
    "collapsed": true
   },
   "outputs": [],
   "source": []
  },
  {
   "cell_type": "code",
   "execution_count": 75,
   "metadata": {
    "collapsed": false
   },
   "outputs": [
    {
     "data": {
      "text/plain": [
       "MUN          652\n",
       "STA          175\n",
       "SCH          130\n",
       "NGO            8\n",
       "Municipal      7\n",
       "PRV            6\n",
       "UTL            5\n",
       "FED            5\n",
       "UNK            3\n",
       "Name: OwnerTyp, dtype: int64"
      ]
     },
     "execution_count": 75,
     "metadata": {},
     "output_type": "execute_result"
    }
   ],
   "source": [
    "sg['OwnerTyp'].value_counts()"
   ]
  },
  {
   "cell_type": "code",
   "execution_count": null,
   "metadata": {
    "collapsed": true
   },
   "outputs": [],
   "source": []
  },
  {
   "cell_type": "code",
   "execution_count": null,
   "metadata": {
    "collapsed": true
   },
   "outputs": [],
   "source": [
    "sg"
   ]
  },
  {
   "cell_type": "code",
   "execution_count": 98,
   "metadata": {
    "collapsed": false
   },
   "outputs": [],
   "source": [
    "sg['swimming'] = (sg[[\"Pool\", \"Beach\"]] == 1)"
   ]
  },
  {
   "cell_type": "code",
   "execution_count": null,
   "metadata": {
    "collapsed": true
   },
   "outputs": [],
   "source": []
  },
  {
   "cell_type": "code",
   "execution_count": 99,
   "metadata": {
    "collapsed": false
   },
   "outputs": [
    {
     "data": {
      "text/plain": [
       "False    980\n",
       "True      11\n",
       "Name: swimming, dtype: int64"
      ]
     },
     "execution_count": 99,
     "metadata": {},
     "output_type": "execute_result"
    }
   ],
   "source": [
    "sg['swimming'].value_counts()"
   ]
  },
  {
   "cell_type": "code",
   "execution_count": null,
   "metadata": {
    "collapsed": true
   },
   "outputs": [],
   "source": []
  },
  {
   "cell_type": "code",
   "execution_count": null,
   "metadata": {
    "collapsed": true
   },
   "outputs": [],
   "source": []
  },
  {
   "cell_type": "code",
   "execution_count": null,
   "metadata": {
    "collapsed": true
   },
   "outputs": [],
   "source": []
  },
  {
   "cell_type": "code",
   "execution_count": 66,
   "metadata": {
    "collapsed": false
   },
   "outputs": [
    {
     "data": {
      "text/plain": [
       "0    935\n",
       "1     56\n",
       "Name: swimming, dtype: int64"
      ]
     },
     "execution_count": 66,
     "metadata": {},
     "output_type": "execute_result"
    }
   ],
   "source": [
    "sg['swimming'].value_counts()"
   ]
  },
  {
   "cell_type": "code",
   "execution_count": 69,
   "metadata": {
    "collapsed": true
   },
   "outputs": [],
   "source": []
  },
  {
   "cell_type": "code",
   "execution_count": null,
   "metadata": {
    "collapsed": true
   },
   "outputs": [],
   "source": []
  },
  {
   "cell_type": "code",
   "execution_count": 71,
   "metadata": {
    "collapsed": false
   },
   "outputs": [],
   "source": [
    "test = sg[['swimming','Pool','Beach']]"
   ]
  },
  {
   "cell_type": "code",
   "execution_count": 73,
   "metadata": {
    "collapsed": false
   },
   "outputs": [
    {
     "data": {
      "text/plain": [
       "991"
      ]
     },
     "execution_count": 73,
     "metadata": {},
     "output_type": "execute_result"
    }
   ],
   "source": [
    "len(test)"
   ]
  },
  {
   "cell_type": "code",
   "execution_count": 74,
   "metadata": {
    "collapsed": false
   },
   "outputs": [
    {
     "data": {
      "text/html": [
       "<div>\n",
       "<table border=\"1\" class=\"dataframe\">\n",
       "  <thead>\n",
       "    <tr style=\"text-align: right;\">\n",
       "      <th></th>\n",
       "      <th>swimming</th>\n",
       "      <th>Pool</th>\n",
       "      <th>Beach</th>\n",
       "    </tr>\n",
       "  </thead>\n",
       "  <tbody>\n",
       "    <tr>\n",
       "      <th>0</th>\n",
       "      <td>0</td>\n",
       "      <td>0</td>\n",
       "      <td>0</td>\n",
       "    </tr>\n",
       "    <tr>\n",
       "      <th>2</th>\n",
       "      <td>1</td>\n",
       "      <td>0</td>\n",
       "      <td>1</td>\n",
       "    </tr>\n",
       "    <tr>\n",
       "      <th>43</th>\n",
       "      <td>1</td>\n",
       "      <td>1</td>\n",
       "      <td>0</td>\n",
       "    </tr>\n",
       "  </tbody>\n",
       "</table>\n",
       "</div>"
      ],
      "text/plain": [
       "    swimming  Pool  Beach\n",
       "0          0     0      0\n",
       "2          1     0      1\n",
       "43         1     1      0"
      ]
     },
     "execution_count": 74,
     "metadata": {},
     "output_type": "execute_result"
    }
   ],
   "source": [
    "test.drop_duplicates()"
   ]
  },
  {
   "cell_type": "code",
   "execution_count": null,
   "metadata": {
    "collapsed": true
   },
   "outputs": [],
   "source": []
  },
  {
   "cell_type": "code",
   "execution_count": null,
   "metadata": {
    "collapsed": true
   },
   "outputs": [],
   "source": []
  },
  {
   "cell_type": "code",
   "execution_count": null,
   "metadata": {
    "collapsed": true
   },
   "outputs": [],
   "source": []
  },
  {
   "cell_type": "code",
   "execution_count": null,
   "metadata": {
    "collapsed": true
   },
   "outputs": [],
   "source": []
  },
  {
   "cell_type": "code",
   "execution_count": null,
   "metadata": {
    "collapsed": true
   },
   "outputs": [],
   "source": []
  },
  {
   "cell_type": "code",
   "execution_count": null,
   "metadata": {
    "collapsed": true
   },
   "outputs": [],
   "source": []
  },
  {
   "cell_type": "code",
   "execution_count": 63,
   "metadata": {
    "collapsed": false
   },
   "outputs": [
    {
     "data": {
      "text/plain": [
       "False    991\n",
       "Name: swimming, dtype: int64"
      ]
     },
     "execution_count": 63,
     "metadata": {},
     "output_type": "execute_result"
    }
   ],
   "source": [
    "sg['swimming'].value_counts()"
   ]
  },
  {
   "cell_type": "code",
   "execution_count": null,
   "metadata": {
    "collapsed": true
   },
   "outputs": [],
   "source": []
  },
  {
   "cell_type": "code",
   "execution_count": null,
   "metadata": {
    "collapsed": true
   },
   "outputs": [],
   "source": []
  },
  {
   "cell_type": "code",
   "execution_count": null,
   "metadata": {
    "collapsed": true
   },
   "outputs": [],
   "source": []
  },
  {
   "cell_type": "code",
   "execution_count": null,
   "metadata": {
    "collapsed": true
   },
   "outputs": [],
   "source": []
  },
  {
   "cell_type": "raw",
   "metadata": {},
   "source": []
  },
  {
   "cell_type": "code",
   "execution_count": 51,
   "metadata": {
    "collapsed": false
   },
   "outputs": [],
   "source": [
    "sg['swimming'] = [sg['Pool'] == 1,sg[\"Beach\"] == 1])"
   ]
  },
  {
   "cell_type": "code",
   "execution_count": 57,
   "metadata": {
    "collapsed": false
   },
   "outputs": [
    {
     "ename": "ValueError",
     "evalue": "The truth value of a Series is ambiguous. Use a.empty, a.bool(), a.item(), a.any() or a.all().",
     "output_type": "error",
     "traceback": [
      "\u001b[1;31m---------------------------------------------------------------------------\u001b[0m",
      "\u001b[1;31mValueError\u001b[0m                                Traceback (most recent call last)",
      "\u001b[1;32m<ipython-input-57-d0c4b95993a6>\u001b[0m in \u001b[0;36m<module>\u001b[1;34m()\u001b[0m\n\u001b[1;32m----> 1\u001b[1;33m \u001b[0msg\u001b[0m\u001b[1;33m.\u001b[0m\u001b[0mquery\u001b[0m\u001b[1;33m(\u001b[0m\u001b[0msg\u001b[0m\u001b[1;33m[\u001b[0m\u001b[1;34m'Pool'\u001b[0m\u001b[1;33m]\u001b[0m \u001b[1;33m==\u001b[0m\u001b[1;36m1\u001b[0m \u001b[1;33m|\u001b[0m \u001b[0msg\u001b[0m\u001b[1;33m[\u001b[0m\u001b[1;34m'Beach'\u001b[0m\u001b[1;33m]\u001b[0m \u001b[1;33m==\u001b[0m \u001b[1;36m1\u001b[0m\u001b[1;33m)\u001b[0m\u001b[1;33m\u001b[0m\u001b[0m\n\u001b[0m",
      "\u001b[1;32mC:\\Anaconda3\\lib\\site-packages\\pandas\\core\\generic.py\u001b[0m in \u001b[0;36m__nonzero__\u001b[1;34m(self)\u001b[0m\n\u001b[0;32m    890\u001b[0m         raise ValueError(\"The truth value of a {0} is ambiguous. \"\n\u001b[0;32m    891\u001b[0m                          \u001b[1;34m\"Use a.empty, a.bool(), a.item(), a.any() or a.all().\"\u001b[0m\u001b[1;33m\u001b[0m\u001b[0m\n\u001b[1;32m--> 892\u001b[1;33m                          .format(self.__class__.__name__))\n\u001b[0m\u001b[0;32m    893\u001b[0m \u001b[1;33m\u001b[0m\u001b[0m\n\u001b[0;32m    894\u001b[0m     \u001b[0m__bool__\u001b[0m \u001b[1;33m=\u001b[0m \u001b[0m__nonzero__\u001b[0m\u001b[1;33m\u001b[0m\u001b[0m\n",
      "\u001b[1;31mValueError\u001b[0m: The truth value of a Series is ambiguous. Use a.empty, a.bool(), a.item(), a.any() or a.all()."
     ]
    }
   ],
   "source": [
    "sg.query(sg['Pool'] ==1 | sg['Beach'] == 1)"
   ]
  },
  {
   "cell_type": "code",
   "execution_count": 58,
   "metadata": {
    "collapsed": false
   },
   "outputs": [
    {
     "data": {
      "text/plain": [
       "0      False\n",
       "1      False\n",
       "2      False\n",
       "3      False\n",
       "4      False\n",
       "5      False\n",
       "6      False\n",
       "7      False\n",
       "8      False\n",
       "9      False\n",
       "10     False\n",
       "11     False\n",
       "12     False\n",
       "13     False\n",
       "14     False\n",
       "15     False\n",
       "16     False\n",
       "17     False\n",
       "18     False\n",
       "19     False\n",
       "20     False\n",
       "21     False\n",
       "22     False\n",
       "23     False\n",
       "24     False\n",
       "25     False\n",
       "26     False\n",
       "27     False\n",
       "28     False\n",
       "29     False\n",
       "       ...  \n",
       "961    False\n",
       "962    False\n",
       "963    False\n",
       "964    False\n",
       "965    False\n",
       "966    False\n",
       "967    False\n",
       "968    False\n",
       "969    False\n",
       "970    False\n",
       "971    False\n",
       "972    False\n",
       "973    False\n",
       "974    False\n",
       "975    False\n",
       "976    False\n",
       "977    False\n",
       "978    False\n",
       "979    False\n",
       "980    False\n",
       "981    False\n",
       "982    False\n",
       "983    False\n",
       "984    False\n",
       "985    False\n",
       "986    False\n",
       "987    False\n",
       "988    False\n",
       "989    False\n",
       "990    False\n",
       "Name: Pool, dtype: bool"
      ]
     },
     "execution_count": 58,
     "metadata": {},
     "output_type": "execute_result"
    }
   ],
   "source": [
    "sg['Pool'] == 1"
   ]
  },
  {
   "cell_type": "code",
   "execution_count": null,
   "metadata": {
    "collapsed": true
   },
   "outputs": [],
   "source": []
  },
  {
   "cell_type": "code",
   "execution_count": null,
   "metadata": {
    "collapsed": true
   },
   "outputs": [],
   "source": []
  },
  {
   "cell_type": "code",
   "execution_count": null,
   "metadata": {
    "collapsed": true
   },
   "outputs": [],
   "source": []
  },
  {
   "cell_type": "code",
   "execution_count": null,
   "metadata": {
    "collapsed": true
   },
   "outputs": [],
   "source": []
  },
  {
   "cell_type": "code",
   "execution_count": null,
   "metadata": {
    "collapsed": true
   },
   "outputs": [],
   "source": []
  },
  {
   "cell_type": "code",
   "execution_count": null,
   "metadata": {
    "collapsed": true
   },
   "outputs": [],
   "source": []
  },
  {
   "cell_type": "code",
   "execution_count": null,
   "metadata": {
    "collapsed": true
   },
   "outputs": [],
   "source": []
  },
  {
   "cell_type": "code",
   "execution_count": null,
   "metadata": {
    "collapsed": true
   },
   "outputs": [],
   "source": []
  },
  {
   "cell_type": "code",
   "execution_count": null,
   "metadata": {
    "collapsed": true
   },
   "outputs": [],
   "source": []
  },
  {
   "cell_type": "code",
   "execution_count": null,
   "metadata": {
    "collapsed": true
   },
   "outputs": [],
   "source": []
  },
  {
   "cell_type": "code",
   "execution_count": null,
   "metadata": {
    "collapsed": true
   },
   "outputs": [],
   "source": []
  },
  {
   "cell_type": "code",
   "execution_count": null,
   "metadata": {
    "collapsed": true
   },
   "outputs": [],
   "source": []
  },
  {
   "cell_type": "code",
   "execution_count": null,
   "metadata": {
    "collapsed": true
   },
   "outputs": [],
   "source": []
  },
  {
   "cell_type": "code",
   "execution_count": null,
   "metadata": {
    "collapsed": true
   },
   "outputs": [],
   "source": []
  },
  {
   "cell_type": "code",
   "execution_count": null,
   "metadata": {
    "collapsed": true
   },
   "outputs": [],
   "source": []
  },
  {
   "cell_type": "code",
   "execution_count": null,
   "metadata": {
    "collapsed": true
   },
   "outputs": [],
   "source": []
  },
  {
   "cell_type": "code",
   "execution_count": null,
   "metadata": {
    "collapsed": true
   },
   "outputs": [],
   "source": []
  },
  {
   "cell_type": "code",
   "execution_count": null,
   "metadata": {
    "collapsed": true
   },
   "outputs": [],
   "source": []
  },
  {
   "cell_type": "code",
   "execution_count": null,
   "metadata": {
    "collapsed": true
   },
   "outputs": [],
   "source": []
  },
  {
   "cell_type": "code",
   "execution_count": 19,
   "metadata": {
    "collapsed": false
   },
   "outputs": [
    {
     "data": {
      "text/plain": [
       "Index(['ADA', 'About_Links', 'Acres_Miles', 'Active Rec', 'Additional_Names',\n",
       "       'Ball Field', 'Basketball Court', 'Beach', 'Bike Path', 'Boating',\n",
       "       'ConsJuri', 'ConsType', 'Contact_Info', 'Contact_Info_Seasonal',\n",
       "       'Description', 'Dogs_Allowed', 'Fishing', 'Football Field',\n",
       "       'GoRI_Incude_Suggestion', 'GoRI_TestFlag', 'GoRI_subset', 'Golf',\n",
       "       'Hunting', 'Ice Hockey Rink', 'LWCFGrant', 'Lat', 'Lon', 'Map_Links',\n",
       "       'Multi-use Field', 'Name', 'NoGoRI_Incude_Why', 'OBJECTID', 'OwnerTyp',\n",
       "       'Picnic_Area', 'Playground', 'Pool', 'RestRoom', 'Short_Description',\n",
       "       'Skate Park', 'Soccer Field', 'StateGrant', 'Steward', 'Street',\n",
       "       'Street Hockey Rink', 'Stroller_Friendly', 'Tennis', 'Town', 'Track',\n",
       "       'Trails', 'Type', 'Volleyball Court', 'Walking Path', 'KeyID'],\n",
       "      dtype='object')"
      ]
     },
     "execution_count": 19,
     "metadata": {},
     "output_type": "execute_result"
    }
   ],
   "source": [
    "sg.columns"
   ]
  },
  {
   "cell_type": "code",
   "execution_count": 21,
   "metadata": {
    "collapsed": false
   },
   "outputs": [
    {
     "data": {
      "text/plain": [
       "Series([], Name: GoRI_TestFlag, dtype: int64)"
      ]
     },
     "execution_count": 21,
     "metadata": {},
     "output_type": "execute_result"
    }
   ],
   "source": [
    "sg['GoRI_TestFlag'].value_counts()"
   ]
  },
  {
   "cell_type": "code",
   "execution_count": 22,
   "metadata": {
    "collapsed": false
   },
   "outputs": [
    {
     "data": {
      "text/plain": [
       "N    602\n",
       "Y    389\n",
       "Name: GoRI_subset, dtype: int64"
      ]
     },
     "execution_count": 22,
     "metadata": {},
     "output_type": "execute_result"
    }
   ],
   "source": [
    "sg['GoRI_subset'].value_counts()"
   ]
  },
  {
   "cell_type": "code",
   "execution_count": 23,
   "metadata": {
    "collapsed": false
   },
   "outputs": [
    {
     "data": {
      "text/plain": [
       "Series([], Name: GoRI_Incude_Suggestion, dtype: int64)"
      ]
     },
     "execution_count": 23,
     "metadata": {},
     "output_type": "execute_result"
    }
   ],
   "source": [
    "sg['GoRI_Incude_Suggestion'].value_counts()"
   ]
  },
  {
   "cell_type": "code",
   "execution_count": null,
   "metadata": {
    "collapsed": true
   },
   "outputs": [],
   "source": []
  },
  {
   "cell_type": "code",
   "execution_count": null,
   "metadata": {
    "collapsed": true
   },
   "outputs": [],
   "source": []
  },
  {
   "cell_type": "code",
   "execution_count": null,
   "metadata": {
    "collapsed": true
   },
   "outputs": [],
   "source": []
  },
  {
   "cell_type": "code",
   "execution_count": null,
   "metadata": {
    "collapsed": true
   },
   "outputs": [],
   "source": []
  },
  {
   "cell_type": "code",
   "execution_count": null,
   "metadata": {
    "collapsed": true
   },
   "outputs": [],
   "source": []
  },
  {
   "cell_type": "code",
   "execution_count": 7,
   "metadata": {
    "collapsed": true
   },
   "outputs": [],
   "source": [
    "bi = sg[sg[\"Town\"].str.contains(\"Shoreham\")]"
   ]
  },
  {
   "cell_type": "code",
   "execution_count": 10,
   "metadata": {
    "collapsed": false
   },
   "outputs": [
    {
     "data": {
      "text/plain": [
       "Index(['ADA', 'About_Links', 'Acres_Miles', 'Active Rec', 'Additional_Names',\n",
       "       'Ball Field', 'Basketball Court', 'Beach', 'Bike Path', 'Boating',\n",
       "       'ConsJuri', 'ConsType', 'Contact_Info', 'Contact_Info_Seasonal',\n",
       "       'Description', 'Dogs_Allowed', 'Fishing', 'Football Field',\n",
       "       'GoRI_Incude_Suggestion', 'GoRI_TestFlag', 'GoRI_subset', 'Golf',\n",
       "       'Hunting', 'Ice Hockey Rink', 'LWCFGrant', 'Lat', 'Lon', 'Map_Links',\n",
       "       'Multi-use Field', 'Name', 'NoGoRI_Incude_Why', 'OBJECTID', 'OwnerTyp',\n",
       "       'Picnic_Area', 'Playground', 'Pool', 'RestRoom', 'Short_Description',\n",
       "       'Skate Park', 'Soccer Field', 'StateGrant', 'Steward', 'Street',\n",
       "       'Street_GEO', 'Street_Type', 'Street Hockey Rink', 'Stroller_Friendly',\n",
       "       'Tennis', 'Town', 'Track', 'Trails', 'Type', 'Volleyball Court',\n",
       "       'Walking Path', 'KeyID'],\n",
       "      dtype='object')"
      ]
     },
     "execution_count": 10,
     "metadata": {},
     "output_type": "execute_result"
    }
   ],
   "source": [
    "sg.columns"
   ]
  },
  {
   "cell_type": "code",
   "execution_count": 11,
   "metadata": {
    "collapsed": false
   },
   "outputs": [
    {
     "data": {
      "text/plain": [
       "0      Spring Grove Beach is a Local Park located in ...\n",
       "1          Lime Acres is a Local Park located in Lincoln\n",
       "2       Slater Park is a Local Park located in Pawtucket\n",
       "3      Max Read Field is a Local Park located in Pawt...\n",
       "4      Blackstone Blvd. Park is a Local Park located ...\n",
       "5      Stephen Olney Park is a Local Park located in ...\n",
       "6      Kimberly Ann Rock Memorial Athletic Complex is...\n",
       "7      Blackstone Park / Patterson Park is a Local Pa...\n",
       "8      Father Lennon Park is a School located in Prov...\n",
       "9      Angelo Zuccolo Pool is a Local Park located in...\n",
       "10     John Donigian Memorial Park is a Local Park lo...\n",
       "11     India Point Park is a Local Park located in Pr...\n",
       "12     Roger Williams Park is a Local Park located in...\n",
       "13     Beachmont / Hayes Field is a Local Park locate...\n",
       "14     Stillhouse Cove is a Local Park located in Cra...\n",
       "15     Aqueduct Field is a Local Park located in Cran...\n",
       "16     Osamequin Nature Trail is a Local Park located...\n",
       "17     Sabin Point Park is a Local Park located in Ea...\n",
       "18     Crescent Park / Loof Carousel is a Local Park ...\n",
       "19     Briggs Farm is a Athletic Field located in Cra...\n",
       "20     Latham Ave. Park is a Local Park located in Ba...\n",
       "21     Mickey Stevens Sports Center is a Local Park l...\n",
       "22     Little Pond Beach is a Local Park located in W...\n",
       "23     Upper Dam Pond is a Local Park located in Cove...\n",
       "24     Briar Point Beach Area is a Local Park located...\n",
       "25     Independence Park is a Local Park located in B...\n",
       "26     Wilson Park is a Local Park located in North K...\n",
       "27     Battery Park / Fort Greene is a Local Park loc...\n",
       "28     Third Beach is a Local Park located in Middletown\n",
       "29     Tri-Pond Park is a Local Park located in South...\n",
       "                             ...                        \n",
       "359    Hodgson Rotary Park is a Local Park located in...\n",
       "360    Bank of Americal City Center is a Local Park l...\n",
       "361    South Kingstown Dog Park is a Local Park locat...\n",
       "362    Washington Secondary Bikepath is a Local Park ...\n",
       "363    Riverside Park is a Local Park located in Prov...\n",
       "364    South County Bike Path is a Local Park located...\n",
       "365    South County Bike Path is a Local Park located...\n",
       "366    Blackstone Bikeway is a State Park located in ...\n",
       "367    Blackstone Bikeway is a State Park located in ...\n",
       "368    Blackstone Bikeway is a State Park located in ...\n",
       "369    Blackstone Bikeway is a State Park located in ...\n",
       "370    Blackstone Bikeway is a State Park located in ...\n",
       "371    Blackstone Bikeway is a State Park located in ...\n",
       "372    Ten Mile River Greenway is a Local Park locate...\n",
       "373    East Bay Bike Path is a State Park located in ...\n",
       "374    East Bay Bike Path is a State Park located in ...\n",
       "375    East Bay Bike Path is a Local Park located in ...\n",
       "376    East Bay Bike Path is a State Park located in ...\n",
       "377    Washington Secondary Bikepath is a Local Park ...\n",
       "378    Washington Secondary Bikepath is a Local Park ...\n",
       "379    Washington Secondary Bikepath is a Local Park ...\n",
       "380    Washington Secondary Bikepath is a Local Park ...\n",
       "381    Washington Secondary Bikepath is a Local Park ...\n",
       "382    Washington Secondary Bikepath is a Local Park ...\n",
       "383    Washington Secondary Bikepath is a Local Park ...\n",
       "384    Quonset Bike Path is a Local Park located in N...\n",
       "385    Fred Lippitt Woonasquatucket River Greenway is...\n",
       "386    Fred Lippitt Woonasquatucket River Greenway is...\n",
       "387    Fred Lippitt Woonasquatucket River Greenway is...\n",
       "388    Fred Lippitt Woonasquatucket River Greenway is...\n",
       "Name: Short_Description, dtype: object"
      ]
     },
     "execution_count": 11,
     "metadata": {},
     "output_type": "execute_result"
    }
   ],
   "source": [
    "sg['Short_Description']"
   ]
  },
  {
   "cell_type": "code",
   "execution_count": null,
   "metadata": {
    "collapsed": true
   },
   "outputs": [],
   "source": []
  },
  {
   "cell_type": "code",
   "execution_count": null,
   "metadata": {
    "collapsed": true
   },
   "outputs": [],
   "source": []
  },
  {
   "cell_type": "code",
   "execution_count": null,
   "metadata": {
    "collapsed": true
   },
   "outputs": [],
   "source": []
  },
  {
   "cell_type": "code",
   "execution_count": null,
   "metadata": {
    "collapsed": true
   },
   "outputs": [],
   "source": []
  },
  {
   "cell_type": "code",
   "execution_count": 6,
   "metadata": {
    "collapsed": false
   },
   "outputs": [
    {
     "data": {
      "text/plain": [
       "0      False\n",
       "1      False\n",
       "2      False\n",
       "3      False\n",
       "4      False\n",
       "5      False\n",
       "6      False\n",
       "7      False\n",
       "8      False\n",
       "9      False\n",
       "10     False\n",
       "11     False\n",
       "12     False\n",
       "13     False\n",
       "14     False\n",
       "15     False\n",
       "16     False\n",
       "17     False\n",
       "18     False\n",
       "19     False\n",
       "20     False\n",
       "21     False\n",
       "22     False\n",
       "23     False\n",
       "24     False\n",
       "25     False\n",
       "26     False\n",
       "27     False\n",
       "28     False\n",
       "29     False\n",
       "       ...  \n",
       "359    False\n",
       "360    False\n",
       "361    False\n",
       "362    False\n",
       "363    False\n",
       "364    False\n",
       "365    False\n",
       "366    False\n",
       "367    False\n",
       "368    False\n",
       "369    False\n",
       "370    False\n",
       "371    False\n",
       "372    False\n",
       "373    False\n",
       "374    False\n",
       "375    False\n",
       "376    False\n",
       "377    False\n",
       "378    False\n",
       "379    False\n",
       "380    False\n",
       "381    False\n",
       "382    False\n",
       "383    False\n",
       "384    False\n",
       "385    False\n",
       "386    False\n",
       "387    False\n",
       "388    False\n",
       "Name: Town, dtype: bool"
      ]
     },
     "execution_count": 6,
     "metadata": {},
     "output_type": "execute_result"
    }
   ],
   "source": [
    "bi"
   ]
  },
  {
   "cell_type": "code",
   "execution_count": null,
   "metadata": {
    "collapsed": true
   },
   "outputs": [],
   "source": []
  },
  {
   "cell_type": "code",
   "execution_count": null,
   "metadata": {
    "collapsed": true
   },
   "outputs": [],
   "source": []
  },
  {
   "cell_type": "code",
   "execution_count": null,
   "metadata": {
    "collapsed": true
   },
   "outputs": [],
   "source": []
  },
  {
   "cell_type": "code",
   "execution_count": null,
   "metadata": {
    "collapsed": true
   },
   "outputs": [],
   "source": []
  },
  {
   "cell_type": "code",
   "execution_count": null,
   "metadata": {
    "collapsed": true
   },
   "outputs": [],
   "source": []
  },
  {
   "cell_type": "code",
   "execution_count": 27,
   "metadata": {
    "collapsed": false
   },
   "outputs": [
    {
     "data": {
      "text/plain": [
       "Providence          25\n",
       "South Kingstown     24\n",
       "Warwick             19\n",
       "North Kingstown     16\n",
       "Exeter              15\n",
       "East Providence     15\n",
       "Coventry            15\n",
       "Lincoln             14\n",
       "Burrillville        14\n",
       "Cranston            14\n",
       "Narragansett        14\n",
       "Portsmouth          13\n",
       "Hopkinton           13\n",
       "Charlestown         11\n",
       "Glocester           11\n",
       "Westerly            11\n",
       "Barrington          11\n",
       "Richmond            10\n",
       "Pawtucket           10\n",
       "West Greenwich      10\n",
       "Newport             10\n",
       "Tiverton             9\n",
       "Bristol              8\n",
       "Woonsocket           8\n",
       "New Shoreham         6\n",
       "Jamestown            6\n",
       "Smithfield           6\n",
       "Scituate             5\n",
       "Middletown           5\n",
       "Warren               5\n",
       "Little Compton       5\n",
       "East Greenwich       4\n",
       "Foster               4\n",
       "North Providence     4\n",
       "North Smithfield     4\n",
       "Cumberland           4\n",
       "Johnston             4\n",
       "West Warwick         4\n",
       "Central Falls        3\n",
       "Name: Town, dtype: int64"
      ]
     },
     "execution_count": 27,
     "metadata": {},
     "output_type": "execute_result"
    }
   ],
   "source": [
    "sg[\"Town\"].value_counts()"
   ]
  },
  {
   "cell_type": "code",
   "execution_count": null,
   "metadata": {
    "collapsed": true
   },
   "outputs": [],
   "source": []
  },
  {
   "cell_type": "code",
   "execution_count": 55,
   "metadata": {
    "collapsed": false
   },
   "outputs": [],
   "source": [
    "test = pd.merge(sg,pj,how='outer',left_on=\"Name\",right_on=\"beach_name\", suffixes=(\"_scorp\",\"_projo\"))"
   ]
  },
  {
   "cell_type": "code",
   "execution_count": null,
   "metadata": {
    "collapsed": true
   },
   "outputs": [],
   "source": []
  },
  {
   "cell_type": "code",
   "execution_count": 50,
   "metadata": {
    "collapsed": false
   },
   "outputs": [
    {
     "data": {
      "text/plain": [
       "Index(['contact', 'website', 'town_description', 'town', 'beach_name',\n",
       "       'description'],\n",
       "      dtype='object')"
      ]
     },
     "execution_count": 50,
     "metadata": {},
     "output_type": "execute_result"
    }
   ],
   "source": [
    "pj.columns"
   ]
  },
  {
   "cell_type": "code",
   "execution_count": 54,
   "metadata": {
    "collapsed": false
   },
   "outputs": [],
   "source": [
    "sg['website'] = sg['About_Links']"
   ]
  },
  {
   "cell_type": "code",
   "execution_count": 67,
   "metadata": {
    "collapsed": false
   },
   "outputs": [],
   "source": [
    "test2 = BeautifulSoup(exri.content, 'html.parser')"
   ]
  },
  {
   "cell_type": "code",
   "execution_count": null,
   "metadata": {
    "collapsed": true
   },
   "outputs": [],
   "source": []
  },
  {
   "cell_type": "code",
   "execution_count": 72,
   "metadata": {
    "collapsed": false
   },
   "outputs": [
    {
     "data": {
      "text/plain": [
       "<!DOCTYPE HTML PUBLIC \"-//W3C//DTD HTML 4.01//EN\" \"http://www.w3.org/TR/html4/strict.dtd\">\n",
       "\n",
       "<html xmlns=\"http://www.w3.org/1999/xhtml\"><!-- InstanceBegin template=\"/Templates/StandardPage.dwt\" codeOutsideHTMLIsLocked=\"false\" -->\n",
       "<head>\n",
       "<link href=\"http://fonts.googleapis.com/css?family=Overlock:700,900|Libre+Baskerville:400,700,400italic\" rel=\"stylesheet\" type=\"text/css\"/>\n",
       "<meta content=\"text/html; charset=utf-8\" http-equiv=\"Content-Type\"/>\n",
       "<meta content=\"http://www.exploreri.org/graphics/ExploreRI_small_pic.jpg\" property=\"og:image\"/>\n",
       "<meta content=\"width=device-width, initial-scale=1\" name=\"viewport\">\n",
       "<!-- InstanceBeginEditable name=\"doctitle\" -->\n",
       "<title>Explore Rhode Island: Walking Trail List</title>\n",
       "<!-- InstanceEndEditable -->\n",
       "<link href=\"/favicon.ico\" rel=\"icon\" type=\"image/x-icon\">\n",
       "<script language=\"JavaScript\" src=\"functions/jquery.js\" type=\"text/javascript\"></script>\n",
       "<script language=\"JavaScript\" src=\"functions/nav2.1.js\" type=\"text/javascript\"></script>\n",
       "<link href=\"styles/styles2.css\" rel=\"stylesheet\" type=\"text/css\"/>\n",
       "<link href=\"styles/menuStyles2.css\" rel=\"stylesheet\" type=\"text/css\"/>\n",
       "<script type=\"text/javascript\">\n",
       "\n",
       "$(document).ready(function() {\n",
       "\t$(\"#navigation\").navPlugin({\n",
       "\t\t'navEffect': \"slide\",\n",
       "\t\t'speed': 250\n",
       "\t});\n",
       "});\n",
       "\n",
       "</script>\n",
       "<!-- InstanceBeginEditable name=\"head\" -->\n",
       "<style type=\"text/css\">\n",
       "<!--\n",
       "@media screen and (max-width:350px){\n",
       "body {\n",
       "    overflow-x: scroll;\n",
       "}\n",
       ".mainDIV {\n",
       "\tmin-width:350px\n",
       "}\n",
       "}\n",
       "-->\n",
       "</style>\n",
       "<!-- InstanceEndEditable -->\n",
       "</link></meta></head>\n",
       "<body>\n",
       "<div id=\"container\">\n",
       "<div class=\"headerDIV\" id=\"header\">\n",
       "<div id=\"heading_0\"><h1>Explore Rhode Island's Blueways and Greenways</h1></div>\n",
       "<img alt=\"Explore Rhode Island's Blueways and Greenways\" id=\"headerImg\" src=\"graphics/ExploreRI_header.jpg\">\n",
       "<div id=\"logoLeft\"><img alt=\"Rhode Island Blueways\" src=\"graphics/RI_Blueways_Logo.gif\"/></div>\n",
       "<div id=\"logoRight\"><img alt=\"Rhode Island Land Trust Council\" src=\"graphics/RI_Land_Trust_Council_Logo.png\"/></div>\n",
       "<div class=\"menuDIV\" id=\"menu\">\n",
       "<ul id=\"navigation\">\n",
       "<li style=\"width:55px;\"><a href=\"index.php\">Home</a></li>\n",
       "<li style=\"width:125px;padding-right:0;\"><a href=\"#\"><strong>Go Paddling</strong></a>\n",
       "<ul>\n",
       "<li><a href=\"mapper3.php\">Interactive Water Mapper</a></li>\n",
       "<li><a href=\"waterTrails.php\">Water Trail Maps</a></li>\n",
       "<li><a href=\"criteria.php\">Put-in/Boat Ramp List</a></li>\n",
       "<li><a href=\"mapsbooks.htm\">Books and Maps</a></li>\n",
       "<li><a href=\"paddlesafely.html\">Paddle Safely</a></li>\n",
       "</ul>\n",
       "</li>\n",
       "<li style=\"width:130px;padding-right:0;\"><a href=\"#\"><strong>Go for a Hike</strong></a>\n",
       "<ul>\n",
       "<li><a href=\"gmapper2.php\">Interactive Trail Mapper</a></li>\n",
       "<li><a href=\"gtraillist.php\">Trail List/Trail Maps</a></li>\n",
       "<li><a href=\"hikesafety.php?src=noback\">Trail Safety</a></li>\n",
       "</ul>\n",
       "</li>\n",
       "<li style=\"width:85px;\"><a href=\"outfitters.html\">Find Gear</a></li>\n",
       "<li style=\"width:62px;\"><a href=\"news.html\">News</a></li>\n",
       "<!--<li style=\"width:62px;\"><a href=\"../events.php\">Events</a></li>-->\n",
       "<li style=\"width:81px;\"><a href=\"about.html\">About Us</a></li>\n",
       "<li style=\"width:66px;\"><a href=\"volunteer.php\">Join Us</a></li>\n",
       "<li style=\"width:49px;\"><a href=\"links.html\">Links</a></li>\n",
       "</ul>\n",
       "</div>\n",
       "<div id=\"header-shadow\"> <div id=\"headercredit\">photo: ©iStockphoto.com/GerMan101</div></div>\n",
       "</img></div>\n",
       "<!-- InstanceBeginEditable name=\"Body\" -->\n",
       "<div class=\"mainDIV\" id=\"main\">\n",
       "<h1>Trail Systems:</h1>\n",
       "<p>Welcome to ExploreRI’s new system for finding walking trails in Rhode Island. Land Trusts and other organizations maintain walking and hiking trails all across Rhode Island. This website will help you find those trails, whether you are looking for someplace nearby for a short walk or someplace where you can hike all day! We will be adding more trails this spring and summer and hope to add RI DEM (state park and management area) trails to ExploreRI in the future.</p><p style=\"margin-bottom:0;\">Click on any trail system name below for more information and trail maps.</p><div style=\"float:left;max-width:460px;min-width:300px;width:47%;margin:8px 0 4px 12px;border-radius:8px;background-color:#bad9b0;line-height:1.1em;\"><p style=\"margin:6px -6px 4px -6px;font-family:Geneva, Arial, Helvetica, sans-serif;font-size:0.9em;\"><strong>To change how the list is sorted,</strong> click on the column headings. For example, to sort the list by town click on the 'town' heading. Click again on the same column heading to reverse the order.</p></div><div style=\"width:330px;float:right;margin-top:30px;\">\n",
       "<div style=\"width:112px;margin-top:-12px;margin-left:20px;height:46px;float:left;\"><a href=\"gmapper2.php\" style=\"\"><img alt=\"View Trailheads on Map\" height=\"46\" src=\"graphics/viewTrailsOnMapButton.gif\" style=\"border:none;margin-top:0;\" width=\"112\"/></a></div><div style=\"width:112px;margin:-12px 50px 0 12px;height:46px;float:right;\">\n",
       "<a href=\"hikesafety.php?src=gtraillist\" style=\"\"><img alt=\"Hiking Safety Information\" height=\"46\" src=\"graphics/hikingSafetyButton.gif\" style=\"border:none;margin-top:0;\" width=\"112\"/></a></div></div><p style=\"margin-bottom:36px;\"> </p><div class=\"managedata\" style=\"*margin-left:12px;\">\n",
       "<table class=\"datatable\" style=\"width:calc(100% - 26px\">\n",
       "<tr class=\"tablehead\" width=\"30px\">\n",
       "<td><a class=\"sorter\" href=\"gtraillist.php?order=townName&amp;direction=SORT_DESC\">Town</a><img alt=\"\" height=\"10\" src=\"graphics/downTriangle.gif\" width=\"14\"/></td>\n",
       "<td><a class=\"sorter\" href=\"gtraillist.php?order=siteName&amp;direction=SORT_ASC\">Trail System</a><img alt=\"\" height=\"10\" src=\"graphics/noTriangle.gif\" width=\"14\"/></td>\n",
       "<td><a class=\"sorter\" href=\"gtraillist.php?order=hikingMiles&amp;direction=SORT_ASC\">Miles of Trail</a><img alt=\"\" height=\"10\" src=\"graphics/noTriangle.gif\" width=\"14\"/></td>\n",
       "<td><a class=\"sorter\" href=\"gtraillist.php?order=trailRating&amp;direction=SORT_ASC\">Trail Rating</a><img alt=\"\" height=\"10\" src=\"graphics/noTriangle.gif\" width=\"14\"/></td>\n",
       "</tr>\n",
       "<tr>\n",
       "<td>Barrington, RI</td>\n",
       "<td><a href=\"gSiteReport2.php?siteID=28&amp;src=siteList\">Osamequin Nature Trails and Bird Sanctuary: 'First Bird' Trails</a></td>\n",
       "<td>1.5 miles</td>\n",
       "<td>easy</td>\n",
       "</tr>\n",
       "<tr>\n",
       "<td>Barrington, RI</td>\n",
       "<td><a href=\"gSiteReport2.php?siteID=29&amp;src=siteList\">Osamequin Nature Trails and Bird Sanctuary: 'Second Bird' Trails</a></td>\n",
       "<td>0.5 miles</td>\n",
       "<td>easy</td>\n",
       "</tr>\n",
       "<tr>\n",
       "<td>Barrington, RI</td>\n",
       "<td><a href=\"gSiteReport2.php?siteID=27&amp;src=siteList\">Veterans Memorial Park - Eastern Side</a></td>\n",
       "<td>2.5 miles</td>\n",
       "<td>easy</td>\n",
       "</tr>\n",
       "<tr>\n",
       "<td>Bristol, RI</td>\n",
       "<td><a href=\"gSiteReport2.php?siteID=39&amp;src=siteList\">Claire D. McIntosh Wildlife Refuge/Environmental Education Ctr.</a></td>\n",
       "<td>0.8 miles</td>\n",
       "<td>easy</td>\n",
       "</tr>\n",
       "<tr>\n",
       "<td>Bristol, RI</td>\n",
       "<td><a href=\"gSiteReport2.php?siteID=45&amp;src=siteList\">Mount Hope Farm</a></td>\n",
       "<td>2.5 miles</td>\n",
       "<td>easy</td>\n",
       "</tr>\n",
       "<tr>\n",
       "<td>Charlestown, RI</td>\n",
       "<td><a href=\"gSiteReport2.php?siteID=35&amp;src=siteList\">Kimball Sanctuary, Watchaug Pond</a></td>\n",
       "<td>1.5 miles</td>\n",
       "<td>intermediate</td>\n",
       "</tr>\n",
       "<tr>\n",
       "<td>Coventry, RI</td>\n",
       "<td><a href=\"gSiteReport2.php?siteID=40&amp;src=siteList\">George B. Parker Woodland Wildlife Refuge</a></td>\n",
       "<td>5 miles</td>\n",
       "<td>intermediate</td>\n",
       "</tr>\n",
       "<tr>\n",
       "<td>Coventry, RI</td>\n",
       "<td><a href=\"gSiteReport2.php?siteID=38&amp;src=siteList\">Maxwell Mays Wildlife Refuge</a></td>\n",
       "<td>2.3 miles</td>\n",
       "<td>intermediate</td>\n",
       "</tr>\n",
       "<tr>\n",
       "<td>Coventry, RI</td>\n",
       "<td><a href=\"gSiteReport2.php?siteID=44&amp;src=siteList\">Waterman Pond</a></td>\n",
       "<td>0.1 miles</td>\n",
       "<td>intermediate</td>\n",
       "</tr>\n",
       "<tr>\n",
       "<td>Cumberland, RI</td>\n",
       "<td><a href=\"gSiteReport2.php?siteID=58&amp;src=siteList\">Geddes Bowen Preserve</a></td>\n",
       "<td>0.5 miles</td>\n",
       "<td>easy</td>\n",
       "</tr>\n",
       "<tr>\n",
       "<td>Cumberland, RI</td>\n",
       "<td><a href=\"gSiteReport2.php?siteID=60&amp;src=siteList\">High Rock/Scott Brook/Tucker Field</a></td>\n",
       "<td>3 miles</td>\n",
       "<td>intermediate</td>\n",
       "</tr>\n",
       "<tr>\n",
       "<td>Cumberland, RI</td>\n",
       "<td><a href=\"gSiteReport2.php?siteID=59&amp;src=siteList\">Otis Smith Farm &amp; Rowbottom Preserve</a></td>\n",
       "<td>3 miles</td>\n",
       "<td>intermediate</td>\n",
       "</tr>\n",
       "<tr>\n",
       "<td>Exeter, RI</td>\n",
       "<td><a href=\"gSiteReport2.php?siteID=34&amp;src=siteList\">Fisherville Brook Wildlife Refuge</a></td>\n",
       "<td>5 miles</td>\n",
       "<td>intermediate</td>\n",
       "</tr>\n",
       "<tr>\n",
       "<td>Glocester, RI</td>\n",
       "<td><a href=\"gSiteReport2.php?siteID=17&amp;src=siteList\">Sprague  Farm</a></td>\n",
       "<td>6 miles</td>\n",
       "<td>intermediate</td>\n",
       "</tr>\n",
       "<tr>\n",
       "<td>Glocester, RI</td>\n",
       "<td><a href=\"gSiteReport2.php?siteID=18&amp;src=siteList\">Steere Hill Farm Conservation Area</a></td>\n",
       "<td>6 miles</td>\n",
       "<td>intermediate</td>\n",
       "</tr>\n",
       "<tr>\n",
       "<td>Hopkinton, RI</td>\n",
       "<td><a href=\"gSiteReport2.php?siteID=49&amp;src=siteList\">Diamond Hill Swamp</a></td>\n",
       "<td>0.5 miles</td>\n",
       "<td>difficult</td>\n",
       "</tr>\n",
       "<tr>\n",
       "<td>Hopkinton, RI</td>\n",
       "<td><a href=\"gSiteReport2.php?siteID=26&amp;src=siteList\">Grills Sanctuary</a></td>\n",
       "<td>4 miles</td>\n",
       "<td>intermediate</td>\n",
       "</tr>\n",
       "<tr>\n",
       "<td>Hopkinton, RI</td>\n",
       "<td><a href=\"gSiteReport2.php?siteID=48&amp;src=siteList\">Kenyon Crossroads</a></td>\n",
       "<td>2.3 miles</td>\n",
       "<td>intermediate</td>\n",
       "</tr>\n",
       "<tr>\n",
       "<td>Hopkinton, RI</td>\n",
       "<td><a href=\"gSiteReport2.php?siteID=37&amp;src=siteList\">Long Pond Woods</a></td>\n",
       "<td>2 miles</td>\n",
       "<td>difficult</td>\n",
       "</tr>\n",
       "<tr>\n",
       "<td>Hopkinton, RI</td>\n",
       "<td><a href=\"gSiteReport2.php?siteID=47&amp;src=siteList\">Pelloni Preserve</a></td>\n",
       "<td>1.9 miles</td>\n",
       "<td>difficult</td>\n",
       "</tr>\n",
       "<tr>\n",
       "<td>Little Compton, RI</td>\n",
       "<td><a href=\"gSiteReport2.php?siteID=24&amp;src=siteList\">Dundery Brook Trail</a></td>\n",
       "<td>1.1 miles</td>\n",
       "<td>easy</td>\n",
       "</tr>\n",
       "<tr>\n",
       "<td>Narragansett, RI</td>\n",
       "<td><a href=\"gSiteReport2.php?siteID=46&amp;src=siteList\">Canonchet Farm</a></td>\n",
       "<td>1.5 miles</td>\n",
       "<td>easy</td>\n",
       "</tr>\n",
       "<tr>\n",
       "<td>North Kingstown, RI</td>\n",
       "<td><a href=\"gSiteReport2.php?siteID=30&amp;src=siteList\">Bush Hill Nature Reserve</a></td>\n",
       "<td>0.5 miles</td>\n",
       "<td>easy</td>\n",
       "</tr>\n",
       "<tr>\n",
       "<td>North Kingstown, RI</td>\n",
       "<td><a href=\"gSiteReport2.php?siteID=32&amp;src=siteList\">Davis Memorial Wildlife Refuge</a></td>\n",
       "<td>1.5 miles</td>\n",
       "<td>intermediate</td>\n",
       "</tr>\n",
       "<tr>\n",
       "<td>North Smithfield, RI</td>\n",
       "<td><a href=\"gSiteReport2.php?siteID=33&amp;src=siteList\">Fort Wildlife Refuge</a></td>\n",
       "<td>3 miles</td>\n",
       "<td>intermediate</td>\n",
       "</tr>\n",
       "<tr>\n",
       "<td>Portsmouth, RI</td>\n",
       "<td><a href=\"gSiteReport2.php?siteID=19&amp;src=siteList\">Oakland Forest &amp; Meadow Preserve</a></td>\n",
       "<td>0.6 miles</td>\n",
       "<td>easy</td>\n",
       "</tr>\n",
       "<tr>\n",
       "<td>Portsmouth, RI</td>\n",
       "<td><a href=\"gSiteReport2.php?siteID=20&amp;src=siteList\">Sakonnet Greenway Trail</a></td>\n",
       "<td>10 miles</td>\n",
       "<td>intermediate</td>\n",
       "</tr>\n",
       "<tr>\n",
       "<td>Richmond, RI</td>\n",
       "<td><a href=\"gSiteReport2.php?siteID=10&amp;src=siteList\">Bradner Preserve</a></td>\n",
       "<td>1.3 miles</td>\n",
       "<td>intermediate</td>\n",
       "</tr>\n",
       "<tr>\n",
       "<td>Richmond, RI</td>\n",
       "<td><a href=\"gSiteReport2.php?siteID=11&amp;src=siteList\">Crawley Preserve</a></td>\n",
       "<td>2 miles</td>\n",
       "<td>intermediate</td>\n",
       "</tr>\n",
       "<tr>\n",
       "<td>Seekonk, MA</td>\n",
       "<td><a href=\"gSiteReport2.php?siteID=31&amp;src=siteList\">Caratunk Wildlife Refuge</a></td>\n",
       "<td>6 miles</td>\n",
       "<td>intermediate</td>\n",
       "</tr>\n",
       "<tr>\n",
       "<td>Smithfield, RI</td>\n",
       "<td><a href=\"gSiteReport2.php?siteID=61&amp;src=siteList\">Mowry Farm</a></td>\n",
       "<td>1 mile</td>\n",
       "<td>intermediate</td>\n",
       "</tr>\n",
       "<tr>\n",
       "<td>Smithfield, RI</td>\n",
       "<td><a href=\"gSiteReport2.php?siteID=55&amp;src=siteList\">Olivia's Forest</a></td>\n",
       "<td>0.7 miles</td>\n",
       "<td>intermediate</td>\n",
       "</tr>\n",
       "<tr>\n",
       "<td>Smithfield, RI</td>\n",
       "<td><a href=\"gSiteReport2.php?siteID=41&amp;src=siteList\">Powder Mill Ledges Wildlife Refuge</a></td>\n",
       "<td>2.5 miles</td>\n",
       "<td>intermediate</td>\n",
       "</tr>\n",
       "<tr>\n",
       "<td>Smithfield, RI</td>\n",
       "<td><a href=\"gSiteReport2.php?siteID=54&amp;src=siteList\">Wolf Hill Forest Preserve</a></td>\n",
       "<td>6 miles</td>\n",
       "<td>intermediate</td>\n",
       "</tr>\n",
       "<tr>\n",
       "<td>South Kingstown, RI</td>\n",
       "<td><a href=\"gSiteReport2.php?siteID=13&amp;src=siteList\">Browning Woods Farm</a></td>\n",
       "<td>3 miles</td>\n",
       "<td>intermediate</td>\n",
       "</tr>\n",
       "<tr>\n",
       "<td>South Kingstown, RI</td>\n",
       "<td><a href=\"gSiteReport2.php?siteID=12&amp;src=siteList\">DuVal Farm</a></td>\n",
       "<td>3.5 miles</td>\n",
       "<td>intermediate</td>\n",
       "</tr>\n",
       "<tr>\n",
       "<td>South Kingstown, RI</td>\n",
       "<td><a href=\"gSiteReport2.php?siteID=56&amp;src=siteList\">Garrison House Acres</a></td>\n",
       "<td>1 mile</td>\n",
       "<td>easy</td>\n",
       "</tr>\n",
       "<tr>\n",
       "<td>South Kingstown, RI</td>\n",
       "<td><a href=\"gSiteReport2.php?siteID=14&amp;src=siteList\">Thewlis Woods</a></td>\n",
       "<td>0.8 miles</td>\n",
       "<td>easy</td>\n",
       "</tr>\n",
       "<tr>\n",
       "<td>South Kingstown, RI</td>\n",
       "<td><a href=\"gSiteReport2.php?siteID=15&amp;src=siteList\">Weeden Farm</a></td>\n",
       "<td>1.2 miles</td>\n",
       "<td>easy</td>\n",
       "</tr>\n",
       "<tr>\n",
       "<td>South Kingstown, RI</td>\n",
       "<td><a href=\"gSiteReport2.php?siteID=16&amp;src=siteList\">Yawgoo Pond Trail</a></td>\n",
       "<td>1.7 miles</td>\n",
       "<td>intermediate</td>\n",
       "</tr>\n",
       "<tr>\n",
       "<td>Tiverton, RI</td>\n",
       "<td><a href=\"gSiteReport2.php?siteID=57&amp;src=siteList\">Basket Swamp Preserve</a></td>\n",
       "<td>2 miles</td>\n",
       "<td>easy</td>\n",
       "</tr>\n",
       "<tr>\n",
       "<td>Tiverton, RI</td>\n",
       "<td><a href=\"gSiteReport2.php?siteID=42&amp;src=siteList\">Emily Ruecker Wildlife Refuge</a></td>\n",
       "<td>2 miles</td>\n",
       "<td>intermediate</td>\n",
       "</tr>\n",
       "<tr>\n",
       "<td>Tiverton, RI</td>\n",
       "<td><a href=\"gSiteReport2.php?siteID=50&amp;src=siteList\">Fort Barton and Ft. Barton Woods</a></td>\n",
       "<td>3.5 miles</td>\n",
       "<td>intermediate</td>\n",
       "</tr>\n",
       "<tr>\n",
       "<td>Tiverton, RI</td>\n",
       "<td><a href=\"gSiteReport2.php?siteID=21&amp;src=siteList\">Pardon Gray Preserve</a></td>\n",
       "<td>3 miles</td>\n",
       "<td>easy</td>\n",
       "</tr>\n",
       "<tr>\n",
       "<td>Tiverton, RI</td>\n",
       "<td><a href=\"gSiteReport2.php?siteID=51&amp;src=siteList\">Weetamoo Woods</a></td>\n",
       "<td>7 miles</td>\n",
       "<td>intermediate</td>\n",
       "</tr>\n",
       "<tr>\n",
       "<td>Warren, RI</td>\n",
       "<td><a href=\"gSiteReport2.php?siteID=43&amp;src=siteList\">Touisset Marsh Wildlife Refuge</a></td>\n",
       "<td>1.5 miles</td>\n",
       "<td>intermediate</td>\n",
       "</tr>\n",
       "<tr>\n",
       "<td>West Greenwich, RI</td>\n",
       "<td><a href=\"gSiteReport2.php?siteID=22&amp;src=siteList\">Fry Pond Preserve</a></td>\n",
       "<td>2.1 miles</td>\n",
       "<td>intermediate</td>\n",
       "</tr>\n",
       "<tr>\n",
       "<td>West Greenwich, RI</td>\n",
       "<td><a href=\"gSiteReport2.php?siteID=23&amp;src=siteList\">Tillinghast Pond / Wickaboxet / Pratt Conservation Area</a></td>\n",
       "<td>10 miles</td>\n",
       "<td>easy</td>\n",
       "</tr>\n",
       "<tr>\n",
       "<td>Westerly, RI</td>\n",
       "<td><a href=\"gSiteReport2.php?siteID=9&amp;src=siteList\">Anderson Preserve</a></td>\n",
       "<td>0.3 miles</td>\n",
       "<td>easy</td>\n",
       "</tr>\n",
       "<tr>\n",
       "<td>Westerly, RI</td>\n",
       "<td><a href=\"gSiteReport2.php?siteID=3&amp;src=siteList\">Avondale Farm Preserve</a></td>\n",
       "<td>1.6 miles</td>\n",
       "<td>easy</td>\n",
       "</tr>\n",
       "<tr>\n",
       "<td>Westerly, RI</td>\n",
       "<td><a href=\"gSiteReport2.php?siteID=4&amp;src=siteList\">Dr. John Champlin Glacier Park</a></td>\n",
       "<td> </td>\n",
       "<td>intermediate</td>\n",
       "</tr>\n",
       "<tr>\n",
       "<td>Westerly, RI</td>\n",
       "<td><a href=\"gSiteReport2.php?siteID=5&amp;src=siteList\">Grills Preserve</a></td>\n",
       "<td>3 miles</td>\n",
       "<td>intermediate</td>\n",
       "</tr>\n",
       "<tr>\n",
       "<td>Westerly, RI</td>\n",
       "<td><a href=\"gSiteReport2.php?siteID=36&amp;src=siteList\">Lathrop Wildlife Refuge</a></td>\n",
       "<td>0.5 miles</td>\n",
       "<td>intermediate</td>\n",
       "</tr>\n",
       "<tr>\n",
       "<td>Westerly, RI</td>\n",
       "<td><a href=\"gSiteReport2.php?siteID=6&amp;src=siteList\">Mastuxet Brook Greenway</a></td>\n",
       "<td>0.3 miles</td>\n",
       "<td>easy</td>\n",
       "</tr>\n",
       "<tr>\n",
       "<td>Westerly, RI</td>\n",
       "<td><a href=\"gSiteReport2.php?siteID=7&amp;src=siteList\">Riverwood</a></td>\n",
       "<td>2 miles</td>\n",
       "<td>intermediate</td>\n",
       "</tr>\n",
       "<tr>\n",
       "<td>Westerly, RI</td>\n",
       "<td><a href=\"gSiteReport2.php?siteID=8&amp;src=siteList\">The Flora H. Whiteley Preserve</a></td>\n",
       "<td>0.3 miles</td>\n",
       "<td>easy</td>\n",
       "</tr>\n",
       "</table>\n",
       "</div>\n",
       "</div>\n",
       "<!-- InstanceEndEditable -->\n",
       "<div class=\"footerDIV\">\n",
       "<div class=\"footerText\" id=\"footerTextRight\">email: <a href=\"mailto:info@exploreri.org\">info@exploreri.org</a></div>\n",
       "<div class=\"footerText\">Rhode Island Blueways Alliance • c/o WPWA • 203 Arcadia Road • Hope Valley, RI 02832</div>\n",
       "</div>\n",
       "</div>\n",
       "<script type=\"text/javascript\">\n",
       "var gaJsHost = ((\"https:\" == document.location.protocol) ? \"https://ssl.\" : \"http://www.\");\n",
       "document.write(unescape(\"%3Cscript src='\" + gaJsHost + \"google-analytics.com/ga.js' type='text/javascript'%3E%3C/script%3E\"));\n",
       "</script>\n",
       "<script type=\"text/javascript\">\n",
       "try {\n",
       "var pageTracker = _gat._getTracker(\"UA-8478445-2\");\n",
       "pageTracker._trackPageview();\n",
       "} catch(err) {}\n",
       "</script>\n",
       "</body>\n",
       "<!-- InstanceEnd --></html>"
      ]
     },
     "execution_count": 72,
     "metadata": {},
     "output_type": "execute_result"
    }
   ],
   "source": [
    "test2"
   ]
  },
  {
   "cell_type": "code",
   "execution_count": null,
   "metadata": {
    "collapsed": true
   },
   "outputs": [],
   "source": []
  },
  {
   "cell_type": "code",
   "execution_count": null,
   "metadata": {
    "collapsed": true
   },
   "outputs": [],
   "source": []
  },
  {
   "cell_type": "code",
   "execution_count": 90,
   "metadata": {
    "collapsed": false
   },
   "outputs": [
    {
     "name": "stdout",
     "output_type": "stream",
     "text": [
      "\n",
      "\n",
      "Town\n",
      "Trail System\n",
      "Miles of Trail\n",
      "Trail Rating\n",
      "\n",
      "\n",
      "Barrington, RI\n",
      "Osamequin Nature Trails and Bird Sanctuary: 'First Bird' Trails\n",
      "1.5 miles\n",
      "easy\n",
      "\n",
      "\n",
      "Barrington, RI\n",
      "Osamequin Nature Trails and Bird Sanctuary: 'Second Bird' Trails\n",
      "0.5 miles\n",
      "easy\n",
      "\n",
      "\n",
      "Barrington, RI\n",
      "Veterans Memorial Park - Eastern Side\n",
      "2.5 miles\n",
      "easy\n",
      "\n",
      "\n",
      "Bristol, RI\n",
      "Claire D. McIntosh Wildlife Refuge/Environmental Education Ctr.\n",
      "0.8 miles\n",
      "easy\n",
      "\n",
      "\n",
      "Bristol, RI\n",
      "Mount Hope Farm\n",
      "2.5 miles\n",
      "easy\n",
      "\n",
      "\n",
      "Charlestown, RI\n",
      "Kimball Sanctuary, Watchaug Pond\n",
      "1.5 miles\n",
      "intermediate\n",
      "\n",
      "\n",
      "Coventry, RI\n",
      "George B. Parker Woodland Wildlife Refuge\n",
      "5 miles\n",
      "intermediate\n",
      "\n",
      "\n",
      "Coventry, RI\n",
      "Maxwell Mays Wildlife Refuge\n",
      "2.3 miles\n",
      "intermediate\n",
      "\n",
      "\n",
      "Coventry, RI\n",
      "Waterman Pond\n",
      "0.1 miles\n",
      "intermediate\n",
      "\n",
      "\n",
      "Cumberland, RI\n",
      "Geddes Bowen Preserve\n",
      "0.5 miles\n",
      "easy\n",
      "\n",
      "\n",
      "Cumberland, RI\n",
      "High Rock/Scott Brook/Tucker Field\n",
      "3 miles\n",
      "intermediate\n",
      "\n",
      "\n",
      "Cumberland, RI\n",
      "Otis Smith Farm & Rowbottom Preserve\n",
      "3 miles\n",
      "intermediate\n",
      "\n",
      "\n",
      "Exeter, RI\n",
      "Fisherville Brook Wildlife Refuge\n",
      "5 miles\n",
      "intermediate\n",
      "\n",
      "\n",
      "Glocester, RI\n",
      "Sprague  Farm\n",
      "6 miles\n",
      "intermediate\n",
      "\n",
      "\n",
      "Glocester, RI\n",
      "Steere Hill Farm Conservation Area\n",
      "6 miles\n",
      "intermediate\n",
      "\n",
      "\n",
      "Hopkinton, RI\n",
      "Diamond Hill Swamp\n",
      "0.5 miles\n",
      "difficult\n",
      "\n",
      "\n",
      "Hopkinton, RI\n",
      "Grills Sanctuary\n",
      "4 miles\n",
      "intermediate\n",
      "\n",
      "\n",
      "Hopkinton, RI\n",
      "Kenyon Crossroads\n",
      "2.3 miles\n",
      "intermediate\n",
      "\n",
      "\n",
      "Hopkinton, RI\n",
      "Long Pond Woods\n",
      "2 miles\n",
      "difficult\n",
      "\n",
      "\n",
      "Hopkinton, RI\n",
      "Pelloni Preserve\n",
      "1.9 miles\n",
      "difficult\n",
      "\n",
      "\n",
      "Little Compton, RI\n",
      "Dundery Brook Trail\n",
      "1.1 miles\n",
      "easy\n",
      "\n",
      "\n",
      "Narragansett, RI\n",
      "Canonchet Farm\n",
      "1.5 miles\n",
      "easy\n",
      "\n",
      "\n",
      "North Kingstown, RI\n",
      "Bush Hill Nature Reserve\n",
      "0.5 miles\n",
      "easy\n",
      "\n",
      "\n",
      "North Kingstown, RI\n",
      "Davis Memorial Wildlife Refuge\n",
      "1.5 miles\n",
      "intermediate\n",
      "\n",
      "\n",
      "North Smithfield, RI\n",
      "Fort Wildlife Refuge\n",
      "3 miles\n",
      "intermediate\n",
      "\n",
      "\n",
      "Portsmouth, RI\n",
      "Oakland Forest & Meadow Preserve\n",
      "0.6 miles\n",
      "easy\n",
      "\n",
      "\n",
      "Portsmouth, RI\n",
      "Sakonnet Greenway Trail\n",
      "10 miles\n",
      "intermediate\n",
      "\n",
      "\n",
      "Richmond, RI\n",
      "Bradner Preserve\n",
      "1.3 miles\n",
      "intermediate\n",
      "\n",
      "\n",
      "Richmond, RI\n",
      "Crawley Preserve\n",
      "2 miles\n",
      "intermediate\n",
      "\n",
      "\n",
      "Seekonk, MA\n",
      "Caratunk Wildlife Refuge\n",
      "6 miles\n",
      "intermediate\n",
      "\n",
      "\n",
      "Smithfield, RI\n",
      "Mowry Farm\n",
      "1 mile\n",
      "intermediate\n",
      "\n",
      "\n",
      "Smithfield, RI\n",
      "Olivia's Forest\n",
      "0.7 miles\n",
      "intermediate\n",
      "\n",
      "\n",
      "Smithfield, RI\n",
      "Powder Mill Ledges Wildlife Refuge\n",
      "2.5 miles\n",
      "intermediate\n",
      "\n",
      "\n",
      "Smithfield, RI\n",
      "Wolf Hill Forest Preserve\n",
      "6 miles\n",
      "intermediate\n",
      "\n",
      "\n",
      "South Kingstown, RI\n",
      "Browning Woods Farm\n",
      "3 miles\n",
      "intermediate\n",
      "\n",
      "\n",
      "South Kingstown, RI\n",
      "DuVal Farm\n",
      "3.5 miles\n",
      "intermediate\n",
      "\n",
      "\n",
      "South Kingstown, RI\n",
      "Garrison House Acres\n",
      "1 mile\n",
      "easy\n",
      "\n",
      "\n",
      "South Kingstown, RI\n",
      "Thewlis Woods\n",
      "0.8 miles\n",
      "easy\n",
      "\n",
      "\n",
      "South Kingstown, RI\n",
      "Weeden Farm\n",
      "1.2 miles\n",
      "easy\n",
      "\n",
      "\n",
      "South Kingstown, RI\n",
      "Yawgoo Pond Trail\n",
      "1.7 miles\n",
      "intermediate\n",
      "\n",
      "\n",
      "Tiverton, RI\n",
      "Basket Swamp Preserve\n",
      "2 miles\n",
      "easy\n",
      "\n",
      "\n",
      "Tiverton, RI\n",
      "Emily Ruecker Wildlife Refuge\n",
      "2 miles\n",
      "intermediate\n",
      "\n",
      "\n",
      "Tiverton, RI\n",
      "Fort Barton and Ft. Barton Woods\n",
      "3.5 miles\n",
      "intermediate\n",
      "\n",
      "\n",
      "Tiverton, RI\n",
      "Pardon Gray Preserve\n",
      "3 miles\n",
      "easy\n",
      "\n",
      "\n",
      "Tiverton, RI\n",
      "Weetamoo Woods\n",
      "7 miles\n",
      "intermediate\n",
      "\n",
      "\n",
      "Warren, RI\n",
      "Touisset Marsh Wildlife Refuge\n",
      "1.5 miles\n",
      "intermediate\n",
      "\n",
      "\n",
      "West Greenwich, RI\n",
      "Fry Pond Preserve\n",
      "2.1 miles\n",
      "intermediate\n",
      "\n",
      "\n",
      "West Greenwich, RI\n",
      "Tillinghast Pond / Wickaboxet / Pratt Conservation Area\n",
      "10 miles\n",
      "easy\n",
      "\n",
      "\n",
      "Westerly, RI\n",
      "Anderson Preserve\n",
      "0.3 miles\n",
      "easy\n",
      "\n",
      "\n",
      "Westerly, RI\n",
      "Avondale Farm Preserve\n",
      "1.6 miles\n",
      "easy\n",
      "\n",
      "\n",
      "Westerly, RI\n",
      "Dr. John Champlin Glacier Park\n",
      " \n",
      "intermediate\n",
      "\n",
      "\n",
      "Westerly, RI\n",
      "Grills Preserve\n",
      "3 miles\n",
      "intermediate\n",
      "\n",
      "\n",
      "Westerly, RI\n",
      "Lathrop Wildlife Refuge\n",
      "0.5 miles\n",
      "intermediate\n",
      "\n",
      "\n",
      "Westerly, RI\n",
      "Mastuxet Brook Greenway\n",
      "0.3 miles\n",
      "easy\n",
      "\n",
      "\n",
      "Westerly, RI\n",
      "Riverwood\n",
      "2 miles\n",
      "intermediate\n",
      "\n",
      "\n",
      "Westerly, RI\n",
      "The Flora H. Whiteley Preserve\n",
      "0.3 miles\n",
      "easy\n",
      "\n",
      "\n"
     ]
    },
    {
     "ename": "KeyError",
     "evalue": "0",
     "output_type": "error",
     "traceback": [
      "\u001b[1;31m---------------------------------------------------------------------------\u001b[0m",
      "\u001b[1;31mKeyError\u001b[0m                                  Traceback (most recent call last)",
      "\u001b[1;32m<ipython-input-90-249731fbca39>\u001b[0m in \u001b[0;36m<module>\u001b[1;34m()\u001b[0m\n\u001b[0;32m      4\u001b[0m     \u001b[1;32mfor\u001b[0m \u001b[0mrow\u001b[0m \u001b[1;32min\u001b[0m \u001b[0mtest2\u001b[0m\u001b[1;33m.\u001b[0m\u001b[0mfind_all\u001b[0m\u001b[1;33m(\u001b[0m\u001b[1;34m'tr'\u001b[0m\u001b[1;33m)\u001b[0m\u001b[1;33m:\u001b[0m\u001b[1;33m\u001b[0m\u001b[0m\n\u001b[0;32m      5\u001b[0m         \u001b[1;32mfor\u001b[0m \u001b[0mcolumn\u001b[0m \u001b[1;32min\u001b[0m \u001b[0mrow\u001b[0m\u001b[1;33m.\u001b[0m\u001b[0mfind_all\u001b[0m\u001b[1;33m(\u001b[0m\u001b[1;34m'td'\u001b[0m\u001b[1;33m)\u001b[0m\u001b[1;33m:\u001b[0m\u001b[1;33m\u001b[0m\u001b[0m\n\u001b[1;32m----> 6\u001b[1;33m             \u001b[0mprint\u001b[0m\u001b[1;33m(\u001b[0m\u001b[0mcolumn\u001b[0m\u001b[1;33m[\u001b[0m\u001b[1;36m0\u001b[0m\u001b[1;33m]\u001b[0m\u001b[1;33m)\u001b[0m\u001b[1;33m\u001b[0m\u001b[0m\n\u001b[0m",
      "\u001b[1;32mC:\\Anaconda3\\lib\\site-packages\\bs4\\element.py\u001b[0m in \u001b[0;36m__getitem__\u001b[1;34m(self, key)\u001b[0m\n\u001b[0;32m    956\u001b[0m         \"\"\"tag[key] returns the value of the 'key' attribute for the tag,\n\u001b[0;32m    957\u001b[0m         and throws an exception if it's not there.\"\"\"\n\u001b[1;32m--> 958\u001b[1;33m         \u001b[1;32mreturn\u001b[0m \u001b[0mself\u001b[0m\u001b[1;33m.\u001b[0m\u001b[0mattrs\u001b[0m\u001b[1;33m[\u001b[0m\u001b[0mkey\u001b[0m\u001b[1;33m]\u001b[0m\u001b[1;33m\u001b[0m\u001b[0m\n\u001b[0m\u001b[0;32m    959\u001b[0m \u001b[1;33m\u001b[0m\u001b[0m\n\u001b[0;32m    960\u001b[0m     \u001b[1;32mdef\u001b[0m \u001b[0m__iter__\u001b[0m\u001b[1;33m(\u001b[0m\u001b[0mself\u001b[0m\u001b[1;33m)\u001b[0m\u001b[1;33m:\u001b[0m\u001b[1;33m\u001b[0m\u001b[0m\n",
      "\u001b[1;31mKeyError\u001b[0m: 0"
     ]
    }
   ],
   "source": [
    "info = []\n",
    "for table in test2.find_all('table'):\n",
    "    print(table.get_text())\n",
    "    for row in test2.find_all('tr'):\n",
    "        for column in row.find_all('td'):\n",
    "            "
   ]
  },
  {
   "cell_type": "code",
   "execution_count": 91,
   "metadata": {
    "collapsed": true
   },
   "outputs": [],
   "source": [
    "table = test2.table"
   ]
  },
  {
   "cell_type": "code",
   "execution_count": 116,
   "metadata": {
    "collapsed": false
   },
   "outputs": [
    {
     "ename": "ValueError",
     "evalue": "not enough values to unpack (expected 4, got 1)",
     "output_type": "error",
     "traceback": [
      "\u001b[1;31m---------------------------------------------------------------------------\u001b[0m",
      "\u001b[1;31mValueError\u001b[0m                                Traceback (most recent call last)",
      "\u001b[1;32m<ipython-input-116-e5f70c365659>\u001b[0m in \u001b[0;36m<module>\u001b[1;34m()\u001b[0m\n\u001b[0;32m      1\u001b[0m \u001b[1;32mfor\u001b[0m \u001b[0mrow\u001b[0m \u001b[1;32min\u001b[0m \u001b[0mtable\u001b[0m\u001b[1;33m.\u001b[0m\u001b[0mcontents\u001b[0m\u001b[1;33m:\u001b[0m\u001b[1;33m\u001b[0m\u001b[0m\n\u001b[1;32m----> 2\u001b[1;33m     \u001b[1;32mfor\u001b[0m \u001b[0mtown\u001b[0m\u001b[1;33m,\u001b[0m \u001b[0mtrail\u001b[0m\u001b[1;33m,\u001b[0m \u001b[0mmiles\u001b[0m\u001b[1;33m,\u001b[0m \u001b[0mrating\u001b[0m \u001b[1;32min\u001b[0m \u001b[0mrow\u001b[0m\u001b[1;33m:\u001b[0m\u001b[1;33m\u001b[0m\u001b[0m\n\u001b[0m\u001b[0;32m      3\u001b[0m         \u001b[0mprint\u001b[0m\u001b[1;33m(\u001b[0m\u001b[0mtown\u001b[0m\u001b[1;33m,\u001b[0m \u001b[0mtrail\u001b[0m\u001b[1;33m,\u001b[0m \u001b[0mmiles\u001b[0m\u001b[1;33m,\u001b[0m \u001b[0mrating\u001b[0m\u001b[1;33m)\u001b[0m\u001b[1;33m\u001b[0m\u001b[0m\n",
      "\u001b[1;31mValueError\u001b[0m: not enough values to unpack (expected 4, got 1)"
     ]
    }
   ],
   "source": [
    "for row in table.contents:\n",
    "    for town, trail, miles, rating in row:\n",
    "        print(town, trail, miles, rating)"
   ]
  },
  {
   "cell_type": "code",
   "execution_count": null,
   "metadata": {
    "collapsed": true
   },
   "outputs": [],
   "source": []
  },
  {
   "cell_type": "code",
   "execution_count": 121,
   "metadata": {
    "collapsed": false
   },
   "outputs": [
    {
     "data": {
      "text/plain": [
       "['\\n', <tr class=\"tablehead\" width=\"30px\">\n",
       " <td><a class=\"sorter\" href=\"gtraillist.php?order=townName&amp;direction=SORT_DESC\">Town</a><img alt=\"\" height=\"10\" src=\"graphics/downTriangle.gif\" width=\"14\"/></td>\n",
       " <td><a class=\"sorter\" href=\"gtraillist.php?order=siteName&amp;direction=SORT_ASC\">Trail System</a><img alt=\"\" height=\"10\" src=\"graphics/noTriangle.gif\" width=\"14\"/></td>\n",
       " <td><a class=\"sorter\" href=\"gtraillist.php?order=hikingMiles&amp;direction=SORT_ASC\">Miles of Trail</a><img alt=\"\" height=\"10\" src=\"graphics/noTriangle.gif\" width=\"14\"/></td>\n",
       " <td><a class=\"sorter\" href=\"gtraillist.php?order=trailRating&amp;direction=SORT_ASC\">Trail Rating</a><img alt=\"\" height=\"10\" src=\"graphics/noTriangle.gif\" width=\"14\"/></td>\n",
       " </tr>, '\\n', <tr>\n",
       " <td>Barrington, RI</td>\n",
       " <td><a href=\"gSiteReport2.php?siteID=28&amp;src=siteList\">Osamequin Nature Trails and Bird Sanctuary: 'First Bird' Trails</a></td>\n",
       " <td>1.5 miles</td>\n",
       " <td>easy</td>\n",
       " </tr>, '\\n', <tr>\n",
       " <td>Barrington, RI</td>\n",
       " <td><a href=\"gSiteReport2.php?siteID=29&amp;src=siteList\">Osamequin Nature Trails and Bird Sanctuary: 'Second Bird' Trails</a></td>\n",
       " <td>0.5 miles</td>\n",
       " <td>easy</td>\n",
       " </tr>, '\\n', <tr>\n",
       " <td>Barrington, RI</td>\n",
       " <td><a href=\"gSiteReport2.php?siteID=27&amp;src=siteList\">Veterans Memorial Park - Eastern Side</a></td>\n",
       " <td>2.5 miles</td>\n",
       " <td>easy</td>\n",
       " </tr>, '\\n', <tr>\n",
       " <td>Bristol, RI</td>\n",
       " <td><a href=\"gSiteReport2.php?siteID=39&amp;src=siteList\">Claire D. McIntosh Wildlife Refuge/Environmental Education Ctr.</a></td>\n",
       " <td>0.8 miles</td>\n",
       " <td>easy</td>\n",
       " </tr>, '\\n', <tr>\n",
       " <td>Bristol, RI</td>\n",
       " <td><a href=\"gSiteReport2.php?siteID=45&amp;src=siteList\">Mount Hope Farm</a></td>\n",
       " <td>2.5 miles</td>\n",
       " <td>easy</td>\n",
       " </tr>, '\\n', <tr>\n",
       " <td>Charlestown, RI</td>\n",
       " <td><a href=\"gSiteReport2.php?siteID=35&amp;src=siteList\">Kimball Sanctuary, Watchaug Pond</a></td>\n",
       " <td>1.5 miles</td>\n",
       " <td>intermediate</td>\n",
       " </tr>, '\\n', <tr>\n",
       " <td>Coventry, RI</td>\n",
       " <td><a href=\"gSiteReport2.php?siteID=40&amp;src=siteList\">George B. Parker Woodland Wildlife Refuge</a></td>\n",
       " <td>5 miles</td>\n",
       " <td>intermediate</td>\n",
       " </tr>, '\\n', <tr>\n",
       " <td>Coventry, RI</td>\n",
       " <td><a href=\"gSiteReport2.php?siteID=38&amp;src=siteList\">Maxwell Mays Wildlife Refuge</a></td>\n",
       " <td>2.3 miles</td>\n",
       " <td>intermediate</td>\n",
       " </tr>, '\\n', <tr>\n",
       " <td>Coventry, RI</td>\n",
       " <td><a href=\"gSiteReport2.php?siteID=44&amp;src=siteList\">Waterman Pond</a></td>\n",
       " <td>0.1 miles</td>\n",
       " <td>intermediate</td>\n",
       " </tr>, '\\n', <tr>\n",
       " <td>Cumberland, RI</td>\n",
       " <td><a href=\"gSiteReport2.php?siteID=58&amp;src=siteList\">Geddes Bowen Preserve</a></td>\n",
       " <td>0.5 miles</td>\n",
       " <td>easy</td>\n",
       " </tr>, '\\n', <tr>\n",
       " <td>Cumberland, RI</td>\n",
       " <td><a href=\"gSiteReport2.php?siteID=60&amp;src=siteList\">High Rock/Scott Brook/Tucker Field</a></td>\n",
       " <td>3 miles</td>\n",
       " <td>intermediate</td>\n",
       " </tr>, '\\n', <tr>\n",
       " <td>Cumberland, RI</td>\n",
       " <td><a href=\"gSiteReport2.php?siteID=59&amp;src=siteList\">Otis Smith Farm &amp; Rowbottom Preserve</a></td>\n",
       " <td>3 miles</td>\n",
       " <td>intermediate</td>\n",
       " </tr>, '\\n', <tr>\n",
       " <td>Exeter, RI</td>\n",
       " <td><a href=\"gSiteReport2.php?siteID=34&amp;src=siteList\">Fisherville Brook Wildlife Refuge</a></td>\n",
       " <td>5 miles</td>\n",
       " <td>intermediate</td>\n",
       " </tr>, '\\n', <tr>\n",
       " <td>Glocester, RI</td>\n",
       " <td><a href=\"gSiteReport2.php?siteID=17&amp;src=siteList\">Sprague  Farm</a></td>\n",
       " <td>6 miles</td>\n",
       " <td>intermediate</td>\n",
       " </tr>, '\\n', <tr>\n",
       " <td>Glocester, RI</td>\n",
       " <td><a href=\"gSiteReport2.php?siteID=18&amp;src=siteList\">Steere Hill Farm Conservation Area</a></td>\n",
       " <td>6 miles</td>\n",
       " <td>intermediate</td>\n",
       " </tr>, '\\n', <tr>\n",
       " <td>Hopkinton, RI</td>\n",
       " <td><a href=\"gSiteReport2.php?siteID=49&amp;src=siteList\">Diamond Hill Swamp</a></td>\n",
       " <td>0.5 miles</td>\n",
       " <td>difficult</td>\n",
       " </tr>, '\\n', <tr>\n",
       " <td>Hopkinton, RI</td>\n",
       " <td><a href=\"gSiteReport2.php?siteID=26&amp;src=siteList\">Grills Sanctuary</a></td>\n",
       " <td>4 miles</td>\n",
       " <td>intermediate</td>\n",
       " </tr>, '\\n', <tr>\n",
       " <td>Hopkinton, RI</td>\n",
       " <td><a href=\"gSiteReport2.php?siteID=48&amp;src=siteList\">Kenyon Crossroads</a></td>\n",
       " <td>2.3 miles</td>\n",
       " <td>intermediate</td>\n",
       " </tr>, '\\n', <tr>\n",
       " <td>Hopkinton, RI</td>\n",
       " <td><a href=\"gSiteReport2.php?siteID=37&amp;src=siteList\">Long Pond Woods</a></td>\n",
       " <td>2 miles</td>\n",
       " <td>difficult</td>\n",
       " </tr>, '\\n', <tr>\n",
       " <td>Hopkinton, RI</td>\n",
       " <td><a href=\"gSiteReport2.php?siteID=47&amp;src=siteList\">Pelloni Preserve</a></td>\n",
       " <td>1.9 miles</td>\n",
       " <td>difficult</td>\n",
       " </tr>, '\\n', <tr>\n",
       " <td>Little Compton, RI</td>\n",
       " <td><a href=\"gSiteReport2.php?siteID=24&amp;src=siteList\">Dundery Brook Trail</a></td>\n",
       " <td>1.1 miles</td>\n",
       " <td>easy</td>\n",
       " </tr>, '\\n', <tr>\n",
       " <td>Narragansett, RI</td>\n",
       " <td><a href=\"gSiteReport2.php?siteID=46&amp;src=siteList\">Canonchet Farm</a></td>\n",
       " <td>1.5 miles</td>\n",
       " <td>easy</td>\n",
       " </tr>, '\\n', <tr>\n",
       " <td>North Kingstown, RI</td>\n",
       " <td><a href=\"gSiteReport2.php?siteID=30&amp;src=siteList\">Bush Hill Nature Reserve</a></td>\n",
       " <td>0.5 miles</td>\n",
       " <td>easy</td>\n",
       " </tr>, '\\n', <tr>\n",
       " <td>North Kingstown, RI</td>\n",
       " <td><a href=\"gSiteReport2.php?siteID=32&amp;src=siteList\">Davis Memorial Wildlife Refuge</a></td>\n",
       " <td>1.5 miles</td>\n",
       " <td>intermediate</td>\n",
       " </tr>, '\\n', <tr>\n",
       " <td>North Smithfield, RI</td>\n",
       " <td><a href=\"gSiteReport2.php?siteID=33&amp;src=siteList\">Fort Wildlife Refuge</a></td>\n",
       " <td>3 miles</td>\n",
       " <td>intermediate</td>\n",
       " </tr>, '\\n', <tr>\n",
       " <td>Portsmouth, RI</td>\n",
       " <td><a href=\"gSiteReport2.php?siteID=19&amp;src=siteList\">Oakland Forest &amp; Meadow Preserve</a></td>\n",
       " <td>0.6 miles</td>\n",
       " <td>easy</td>\n",
       " </tr>, '\\n', <tr>\n",
       " <td>Portsmouth, RI</td>\n",
       " <td><a href=\"gSiteReport2.php?siteID=20&amp;src=siteList\">Sakonnet Greenway Trail</a></td>\n",
       " <td>10 miles</td>\n",
       " <td>intermediate</td>\n",
       " </tr>, '\\n', <tr>\n",
       " <td>Richmond, RI</td>\n",
       " <td><a href=\"gSiteReport2.php?siteID=10&amp;src=siteList\">Bradner Preserve</a></td>\n",
       " <td>1.3 miles</td>\n",
       " <td>intermediate</td>\n",
       " </tr>, '\\n', <tr>\n",
       " <td>Richmond, RI</td>\n",
       " <td><a href=\"gSiteReport2.php?siteID=11&amp;src=siteList\">Crawley Preserve</a></td>\n",
       " <td>2 miles</td>\n",
       " <td>intermediate</td>\n",
       " </tr>, '\\n', <tr>\n",
       " <td>Seekonk, MA</td>\n",
       " <td><a href=\"gSiteReport2.php?siteID=31&amp;src=siteList\">Caratunk Wildlife Refuge</a></td>\n",
       " <td>6 miles</td>\n",
       " <td>intermediate</td>\n",
       " </tr>, '\\n', <tr>\n",
       " <td>Smithfield, RI</td>\n",
       " <td><a href=\"gSiteReport2.php?siteID=61&amp;src=siteList\">Mowry Farm</a></td>\n",
       " <td>1 mile</td>\n",
       " <td>intermediate</td>\n",
       " </tr>, '\\n', <tr>\n",
       " <td>Smithfield, RI</td>\n",
       " <td><a href=\"gSiteReport2.php?siteID=55&amp;src=siteList\">Olivia's Forest</a></td>\n",
       " <td>0.7 miles</td>\n",
       " <td>intermediate</td>\n",
       " </tr>, '\\n', <tr>\n",
       " <td>Smithfield, RI</td>\n",
       " <td><a href=\"gSiteReport2.php?siteID=41&amp;src=siteList\">Powder Mill Ledges Wildlife Refuge</a></td>\n",
       " <td>2.5 miles</td>\n",
       " <td>intermediate</td>\n",
       " </tr>, '\\n', <tr>\n",
       " <td>Smithfield, RI</td>\n",
       " <td><a href=\"gSiteReport2.php?siteID=54&amp;src=siteList\">Wolf Hill Forest Preserve</a></td>\n",
       " <td>6 miles</td>\n",
       " <td>intermediate</td>\n",
       " </tr>, '\\n', <tr>\n",
       " <td>South Kingstown, RI</td>\n",
       " <td><a href=\"gSiteReport2.php?siteID=13&amp;src=siteList\">Browning Woods Farm</a></td>\n",
       " <td>3 miles</td>\n",
       " <td>intermediate</td>\n",
       " </tr>, '\\n', <tr>\n",
       " <td>South Kingstown, RI</td>\n",
       " <td><a href=\"gSiteReport2.php?siteID=12&amp;src=siteList\">DuVal Farm</a></td>\n",
       " <td>3.5 miles</td>\n",
       " <td>intermediate</td>\n",
       " </tr>, '\\n', <tr>\n",
       " <td>South Kingstown, RI</td>\n",
       " <td><a href=\"gSiteReport2.php?siteID=56&amp;src=siteList\">Garrison House Acres</a></td>\n",
       " <td>1 mile</td>\n",
       " <td>easy</td>\n",
       " </tr>, '\\n', <tr>\n",
       " <td>South Kingstown, RI</td>\n",
       " <td><a href=\"gSiteReport2.php?siteID=14&amp;src=siteList\">Thewlis Woods</a></td>\n",
       " <td>0.8 miles</td>\n",
       " <td>easy</td>\n",
       " </tr>, '\\n', <tr>\n",
       " <td>South Kingstown, RI</td>\n",
       " <td><a href=\"gSiteReport2.php?siteID=15&amp;src=siteList\">Weeden Farm</a></td>\n",
       " <td>1.2 miles</td>\n",
       " <td>easy</td>\n",
       " </tr>, '\\n', <tr>\n",
       " <td>South Kingstown, RI</td>\n",
       " <td><a href=\"gSiteReport2.php?siteID=16&amp;src=siteList\">Yawgoo Pond Trail</a></td>\n",
       " <td>1.7 miles</td>\n",
       " <td>intermediate</td>\n",
       " </tr>, '\\n', <tr>\n",
       " <td>Tiverton, RI</td>\n",
       " <td><a href=\"gSiteReport2.php?siteID=57&amp;src=siteList\">Basket Swamp Preserve</a></td>\n",
       " <td>2 miles</td>\n",
       " <td>easy</td>\n",
       " </tr>, '\\n', <tr>\n",
       " <td>Tiverton, RI</td>\n",
       " <td><a href=\"gSiteReport2.php?siteID=42&amp;src=siteList\">Emily Ruecker Wildlife Refuge</a></td>\n",
       " <td>2 miles</td>\n",
       " <td>intermediate</td>\n",
       " </tr>, '\\n', <tr>\n",
       " <td>Tiverton, RI</td>\n",
       " <td><a href=\"gSiteReport2.php?siteID=50&amp;src=siteList\">Fort Barton and Ft. Barton Woods</a></td>\n",
       " <td>3.5 miles</td>\n",
       " <td>intermediate</td>\n",
       " </tr>, '\\n', <tr>\n",
       " <td>Tiverton, RI</td>\n",
       " <td><a href=\"gSiteReport2.php?siteID=21&amp;src=siteList\">Pardon Gray Preserve</a></td>\n",
       " <td>3 miles</td>\n",
       " <td>easy</td>\n",
       " </tr>, '\\n', <tr>\n",
       " <td>Tiverton, RI</td>\n",
       " <td><a href=\"gSiteReport2.php?siteID=51&amp;src=siteList\">Weetamoo Woods</a></td>\n",
       " <td>7 miles</td>\n",
       " <td>intermediate</td>\n",
       " </tr>, '\\n', <tr>\n",
       " <td>Warren, RI</td>\n",
       " <td><a href=\"gSiteReport2.php?siteID=43&amp;src=siteList\">Touisset Marsh Wildlife Refuge</a></td>\n",
       " <td>1.5 miles</td>\n",
       " <td>intermediate</td>\n",
       " </tr>, '\\n', <tr>\n",
       " <td>West Greenwich, RI</td>\n",
       " <td><a href=\"gSiteReport2.php?siteID=22&amp;src=siteList\">Fry Pond Preserve</a></td>\n",
       " <td>2.1 miles</td>\n",
       " <td>intermediate</td>\n",
       " </tr>, '\\n', <tr>\n",
       " <td>West Greenwich, RI</td>\n",
       " <td><a href=\"gSiteReport2.php?siteID=23&amp;src=siteList\">Tillinghast Pond / Wickaboxet / Pratt Conservation Area</a></td>\n",
       " <td>10 miles</td>\n",
       " <td>easy</td>\n",
       " </tr>, '\\n', <tr>\n",
       " <td>Westerly, RI</td>\n",
       " <td><a href=\"gSiteReport2.php?siteID=9&amp;src=siteList\">Anderson Preserve</a></td>\n",
       " <td>0.3 miles</td>\n",
       " <td>easy</td>\n",
       " </tr>, '\\n', <tr>\n",
       " <td>Westerly, RI</td>\n",
       " <td><a href=\"gSiteReport2.php?siteID=3&amp;src=siteList\">Avondale Farm Preserve</a></td>\n",
       " <td>1.6 miles</td>\n",
       " <td>easy</td>\n",
       " </tr>, '\\n', <tr>\n",
       " <td>Westerly, RI</td>\n",
       " <td><a href=\"gSiteReport2.php?siteID=4&amp;src=siteList\">Dr. John Champlin Glacier Park</a></td>\n",
       " <td> </td>\n",
       " <td>intermediate</td>\n",
       " </tr>, '\\n', <tr>\n",
       " <td>Westerly, RI</td>\n",
       " <td><a href=\"gSiteReport2.php?siteID=5&amp;src=siteList\">Grills Preserve</a></td>\n",
       " <td>3 miles</td>\n",
       " <td>intermediate</td>\n",
       " </tr>, '\\n', <tr>\n",
       " <td>Westerly, RI</td>\n",
       " <td><a href=\"gSiteReport2.php?siteID=36&amp;src=siteList\">Lathrop Wildlife Refuge</a></td>\n",
       " <td>0.5 miles</td>\n",
       " <td>intermediate</td>\n",
       " </tr>, '\\n', <tr>\n",
       " <td>Westerly, RI</td>\n",
       " <td><a href=\"gSiteReport2.php?siteID=6&amp;src=siteList\">Mastuxet Brook Greenway</a></td>\n",
       " <td>0.3 miles</td>\n",
       " <td>easy</td>\n",
       " </tr>, '\\n', <tr>\n",
       " <td>Westerly, RI</td>\n",
       " <td><a href=\"gSiteReport2.php?siteID=7&amp;src=siteList\">Riverwood</a></td>\n",
       " <td>2 miles</td>\n",
       " <td>intermediate</td>\n",
       " </tr>, '\\n', <tr>\n",
       " <td>Westerly, RI</td>\n",
       " <td><a href=\"gSiteReport2.php?siteID=8&amp;src=siteList\">The Flora H. Whiteley Preserve</a></td>\n",
       " <td>0.3 miles</td>\n",
       " <td>easy</td>\n",
       " </tr>, '\\n']"
      ]
     },
     "execution_count": 121,
     "metadata": {},
     "output_type": "execute_result"
    }
   ],
   "source": [
    "table.contents"
   ]
  },
  {
   "cell_type": "code",
   "execution_count": 123,
   "metadata": {
    "collapsed": false
   },
   "outputs": [
    {
     "data": {
      "text/plain": [
       "<table class=\"datatable\" style=\"width:calc(100% - 26px\">\n",
       "<tr class=\"tablehead\" width=\"30px\">\n",
       "<td><a class=\"sorter\" href=\"gtraillist.php?order=townName&amp;direction=SORT_DESC\">Town</a><img alt=\"\" height=\"10\" src=\"graphics/downTriangle.gif\" width=\"14\"/></td>\n",
       "<td><a class=\"sorter\" href=\"gtraillist.php?order=siteName&amp;direction=SORT_ASC\">Trail System</a><img alt=\"\" height=\"10\" src=\"graphics/noTriangle.gif\" width=\"14\"/></td>\n",
       "<td><a class=\"sorter\" href=\"gtraillist.php?order=hikingMiles&amp;direction=SORT_ASC\">Miles of Trail</a><img alt=\"\" height=\"10\" src=\"graphics/noTriangle.gif\" width=\"14\"/></td>\n",
       "<td><a class=\"sorter\" href=\"gtraillist.php?order=trailRating&amp;direction=SORT_ASC\">Trail Rating</a><img alt=\"\" height=\"10\" src=\"graphics/noTriangle.gif\" width=\"14\"/></td>\n",
       "</tr>\n",
       "<tr>\n",
       "<td>Barrington, RI</td>\n",
       "<td><a href=\"gSiteReport2.php?siteID=28&amp;src=siteList\">Osamequin Nature Trails and Bird Sanctuary: 'First Bird' Trails</a></td>\n",
       "<td>1.5 miles</td>\n",
       "<td>easy</td>\n",
       "</tr>\n",
       "<tr>\n",
       "<td>Barrington, RI</td>\n",
       "<td><a href=\"gSiteReport2.php?siteID=29&amp;src=siteList\">Osamequin Nature Trails and Bird Sanctuary: 'Second Bird' Trails</a></td>\n",
       "<td>0.5 miles</td>\n",
       "<td>easy</td>\n",
       "</tr>\n",
       "<tr>\n",
       "<td>Barrington, RI</td>\n",
       "<td><a href=\"gSiteReport2.php?siteID=27&amp;src=siteList\">Veterans Memorial Park - Eastern Side</a></td>\n",
       "<td>2.5 miles</td>\n",
       "<td>easy</td>\n",
       "</tr>\n",
       "<tr>\n",
       "<td>Bristol, RI</td>\n",
       "<td><a href=\"gSiteReport2.php?siteID=39&amp;src=siteList\">Claire D. McIntosh Wildlife Refuge/Environmental Education Ctr.</a></td>\n",
       "<td>0.8 miles</td>\n",
       "<td>easy</td>\n",
       "</tr>\n",
       "<tr>\n",
       "<td>Bristol, RI</td>\n",
       "<td><a href=\"gSiteReport2.php?siteID=45&amp;src=siteList\">Mount Hope Farm</a></td>\n",
       "<td>2.5 miles</td>\n",
       "<td>easy</td>\n",
       "</tr>\n",
       "<tr>\n",
       "<td>Charlestown, RI</td>\n",
       "<td><a href=\"gSiteReport2.php?siteID=35&amp;src=siteList\">Kimball Sanctuary, Watchaug Pond</a></td>\n",
       "<td>1.5 miles</td>\n",
       "<td>intermediate</td>\n",
       "</tr>\n",
       "<tr>\n",
       "<td>Coventry, RI</td>\n",
       "<td><a href=\"gSiteReport2.php?siteID=40&amp;src=siteList\">George B. Parker Woodland Wildlife Refuge</a></td>\n",
       "<td>5 miles</td>\n",
       "<td>intermediate</td>\n",
       "</tr>\n",
       "<tr>\n",
       "<td>Coventry, RI</td>\n",
       "<td><a href=\"gSiteReport2.php?siteID=38&amp;src=siteList\">Maxwell Mays Wildlife Refuge</a></td>\n",
       "<td>2.3 miles</td>\n",
       "<td>intermediate</td>\n",
       "</tr>\n",
       "<tr>\n",
       "<td>Coventry, RI</td>\n",
       "<td><a href=\"gSiteReport2.php?siteID=44&amp;src=siteList\">Waterman Pond</a></td>\n",
       "<td>0.1 miles</td>\n",
       "<td>intermediate</td>\n",
       "</tr>\n",
       "<tr>\n",
       "<td>Cumberland, RI</td>\n",
       "<td><a href=\"gSiteReport2.php?siteID=58&amp;src=siteList\">Geddes Bowen Preserve</a></td>\n",
       "<td>0.5 miles</td>\n",
       "<td>easy</td>\n",
       "</tr>\n",
       "<tr>\n",
       "<td>Cumberland, RI</td>\n",
       "<td><a href=\"gSiteReport2.php?siteID=60&amp;src=siteList\">High Rock/Scott Brook/Tucker Field</a></td>\n",
       "<td>3 miles</td>\n",
       "<td>intermediate</td>\n",
       "</tr>\n",
       "<tr>\n",
       "<td>Cumberland, RI</td>\n",
       "<td><a href=\"gSiteReport2.php?siteID=59&amp;src=siteList\">Otis Smith Farm &amp; Rowbottom Preserve</a></td>\n",
       "<td>3 miles</td>\n",
       "<td>intermediate</td>\n",
       "</tr>\n",
       "<tr>\n",
       "<td>Exeter, RI</td>\n",
       "<td><a href=\"gSiteReport2.php?siteID=34&amp;src=siteList\">Fisherville Brook Wildlife Refuge</a></td>\n",
       "<td>5 miles</td>\n",
       "<td>intermediate</td>\n",
       "</tr>\n",
       "<tr>\n",
       "<td>Glocester, RI</td>\n",
       "<td><a href=\"gSiteReport2.php?siteID=17&amp;src=siteList\">Sprague  Farm</a></td>\n",
       "<td>6 miles</td>\n",
       "<td>intermediate</td>\n",
       "</tr>\n",
       "<tr>\n",
       "<td>Glocester, RI</td>\n",
       "<td><a href=\"gSiteReport2.php?siteID=18&amp;src=siteList\">Steere Hill Farm Conservation Area</a></td>\n",
       "<td>6 miles</td>\n",
       "<td>intermediate</td>\n",
       "</tr>\n",
       "<tr>\n",
       "<td>Hopkinton, RI</td>\n",
       "<td><a href=\"gSiteReport2.php?siteID=49&amp;src=siteList\">Diamond Hill Swamp</a></td>\n",
       "<td>0.5 miles</td>\n",
       "<td>difficult</td>\n",
       "</tr>\n",
       "<tr>\n",
       "<td>Hopkinton, RI</td>\n",
       "<td><a href=\"gSiteReport2.php?siteID=26&amp;src=siteList\">Grills Sanctuary</a></td>\n",
       "<td>4 miles</td>\n",
       "<td>intermediate</td>\n",
       "</tr>\n",
       "<tr>\n",
       "<td>Hopkinton, RI</td>\n",
       "<td><a href=\"gSiteReport2.php?siteID=48&amp;src=siteList\">Kenyon Crossroads</a></td>\n",
       "<td>2.3 miles</td>\n",
       "<td>intermediate</td>\n",
       "</tr>\n",
       "<tr>\n",
       "<td>Hopkinton, RI</td>\n",
       "<td><a href=\"gSiteReport2.php?siteID=37&amp;src=siteList\">Long Pond Woods</a></td>\n",
       "<td>2 miles</td>\n",
       "<td>difficult</td>\n",
       "</tr>\n",
       "<tr>\n",
       "<td>Hopkinton, RI</td>\n",
       "<td><a href=\"gSiteReport2.php?siteID=47&amp;src=siteList\">Pelloni Preserve</a></td>\n",
       "<td>1.9 miles</td>\n",
       "<td>difficult</td>\n",
       "</tr>\n",
       "<tr>\n",
       "<td>Little Compton, RI</td>\n",
       "<td><a href=\"gSiteReport2.php?siteID=24&amp;src=siteList\">Dundery Brook Trail</a></td>\n",
       "<td>1.1 miles</td>\n",
       "<td>easy</td>\n",
       "</tr>\n",
       "<tr>\n",
       "<td>Narragansett, RI</td>\n",
       "<td><a href=\"gSiteReport2.php?siteID=46&amp;src=siteList\">Canonchet Farm</a></td>\n",
       "<td>1.5 miles</td>\n",
       "<td>easy</td>\n",
       "</tr>\n",
       "<tr>\n",
       "<td>North Kingstown, RI</td>\n",
       "<td><a href=\"gSiteReport2.php?siteID=30&amp;src=siteList\">Bush Hill Nature Reserve</a></td>\n",
       "<td>0.5 miles</td>\n",
       "<td>easy</td>\n",
       "</tr>\n",
       "<tr>\n",
       "<td>North Kingstown, RI</td>\n",
       "<td><a href=\"gSiteReport2.php?siteID=32&amp;src=siteList\">Davis Memorial Wildlife Refuge</a></td>\n",
       "<td>1.5 miles</td>\n",
       "<td>intermediate</td>\n",
       "</tr>\n",
       "<tr>\n",
       "<td>North Smithfield, RI</td>\n",
       "<td><a href=\"gSiteReport2.php?siteID=33&amp;src=siteList\">Fort Wildlife Refuge</a></td>\n",
       "<td>3 miles</td>\n",
       "<td>intermediate</td>\n",
       "</tr>\n",
       "<tr>\n",
       "<td>Portsmouth, RI</td>\n",
       "<td><a href=\"gSiteReport2.php?siteID=19&amp;src=siteList\">Oakland Forest &amp; Meadow Preserve</a></td>\n",
       "<td>0.6 miles</td>\n",
       "<td>easy</td>\n",
       "</tr>\n",
       "<tr>\n",
       "<td>Portsmouth, RI</td>\n",
       "<td><a href=\"gSiteReport2.php?siteID=20&amp;src=siteList\">Sakonnet Greenway Trail</a></td>\n",
       "<td>10 miles</td>\n",
       "<td>intermediate</td>\n",
       "</tr>\n",
       "<tr>\n",
       "<td>Richmond, RI</td>\n",
       "<td><a href=\"gSiteReport2.php?siteID=10&amp;src=siteList\">Bradner Preserve</a></td>\n",
       "<td>1.3 miles</td>\n",
       "<td>intermediate</td>\n",
       "</tr>\n",
       "<tr>\n",
       "<td>Richmond, RI</td>\n",
       "<td><a href=\"gSiteReport2.php?siteID=11&amp;src=siteList\">Crawley Preserve</a></td>\n",
       "<td>2 miles</td>\n",
       "<td>intermediate</td>\n",
       "</tr>\n",
       "<tr>\n",
       "<td>Seekonk, MA</td>\n",
       "<td><a href=\"gSiteReport2.php?siteID=31&amp;src=siteList\">Caratunk Wildlife Refuge</a></td>\n",
       "<td>6 miles</td>\n",
       "<td>intermediate</td>\n",
       "</tr>\n",
       "<tr>\n",
       "<td>Smithfield, RI</td>\n",
       "<td><a href=\"gSiteReport2.php?siteID=61&amp;src=siteList\">Mowry Farm</a></td>\n",
       "<td>1 mile</td>\n",
       "<td>intermediate</td>\n",
       "</tr>\n",
       "<tr>\n",
       "<td>Smithfield, RI</td>\n",
       "<td><a href=\"gSiteReport2.php?siteID=55&amp;src=siteList\">Olivia's Forest</a></td>\n",
       "<td>0.7 miles</td>\n",
       "<td>intermediate</td>\n",
       "</tr>\n",
       "<tr>\n",
       "<td>Smithfield, RI</td>\n",
       "<td><a href=\"gSiteReport2.php?siteID=41&amp;src=siteList\">Powder Mill Ledges Wildlife Refuge</a></td>\n",
       "<td>2.5 miles</td>\n",
       "<td>intermediate</td>\n",
       "</tr>\n",
       "<tr>\n",
       "<td>Smithfield, RI</td>\n",
       "<td><a href=\"gSiteReport2.php?siteID=54&amp;src=siteList\">Wolf Hill Forest Preserve</a></td>\n",
       "<td>6 miles</td>\n",
       "<td>intermediate</td>\n",
       "</tr>\n",
       "<tr>\n",
       "<td>South Kingstown, RI</td>\n",
       "<td><a href=\"gSiteReport2.php?siteID=13&amp;src=siteList\">Browning Woods Farm</a></td>\n",
       "<td>3 miles</td>\n",
       "<td>intermediate</td>\n",
       "</tr>\n",
       "<tr>\n",
       "<td>South Kingstown, RI</td>\n",
       "<td><a href=\"gSiteReport2.php?siteID=12&amp;src=siteList\">DuVal Farm</a></td>\n",
       "<td>3.5 miles</td>\n",
       "<td>intermediate</td>\n",
       "</tr>\n",
       "<tr>\n",
       "<td>South Kingstown, RI</td>\n",
       "<td><a href=\"gSiteReport2.php?siteID=56&amp;src=siteList\">Garrison House Acres</a></td>\n",
       "<td>1 mile</td>\n",
       "<td>easy</td>\n",
       "</tr>\n",
       "<tr>\n",
       "<td>South Kingstown, RI</td>\n",
       "<td><a href=\"gSiteReport2.php?siteID=14&amp;src=siteList\">Thewlis Woods</a></td>\n",
       "<td>0.8 miles</td>\n",
       "<td>easy</td>\n",
       "</tr>\n",
       "<tr>\n",
       "<td>South Kingstown, RI</td>\n",
       "<td><a href=\"gSiteReport2.php?siteID=15&amp;src=siteList\">Weeden Farm</a></td>\n",
       "<td>1.2 miles</td>\n",
       "<td>easy</td>\n",
       "</tr>\n",
       "<tr>\n",
       "<td>South Kingstown, RI</td>\n",
       "<td><a href=\"gSiteReport2.php?siteID=16&amp;src=siteList\">Yawgoo Pond Trail</a></td>\n",
       "<td>1.7 miles</td>\n",
       "<td>intermediate</td>\n",
       "</tr>\n",
       "<tr>\n",
       "<td>Tiverton, RI</td>\n",
       "<td><a href=\"gSiteReport2.php?siteID=57&amp;src=siteList\">Basket Swamp Preserve</a></td>\n",
       "<td>2 miles</td>\n",
       "<td>easy</td>\n",
       "</tr>\n",
       "<tr>\n",
       "<td>Tiverton, RI</td>\n",
       "<td><a href=\"gSiteReport2.php?siteID=42&amp;src=siteList\">Emily Ruecker Wildlife Refuge</a></td>\n",
       "<td>2 miles</td>\n",
       "<td>intermediate</td>\n",
       "</tr>\n",
       "<tr>\n",
       "<td>Tiverton, RI</td>\n",
       "<td><a href=\"gSiteReport2.php?siteID=50&amp;src=siteList\">Fort Barton and Ft. Barton Woods</a></td>\n",
       "<td>3.5 miles</td>\n",
       "<td>intermediate</td>\n",
       "</tr>\n",
       "<tr>\n",
       "<td>Tiverton, RI</td>\n",
       "<td><a href=\"gSiteReport2.php?siteID=21&amp;src=siteList\">Pardon Gray Preserve</a></td>\n",
       "<td>3 miles</td>\n",
       "<td>easy</td>\n",
       "</tr>\n",
       "<tr>\n",
       "<td>Tiverton, RI</td>\n",
       "<td><a href=\"gSiteReport2.php?siteID=51&amp;src=siteList\">Weetamoo Woods</a></td>\n",
       "<td>7 miles</td>\n",
       "<td>intermediate</td>\n",
       "</tr>\n",
       "<tr>\n",
       "<td>Warren, RI</td>\n",
       "<td><a href=\"gSiteReport2.php?siteID=43&amp;src=siteList\">Touisset Marsh Wildlife Refuge</a></td>\n",
       "<td>1.5 miles</td>\n",
       "<td>intermediate</td>\n",
       "</tr>\n",
       "<tr>\n",
       "<td>West Greenwich, RI</td>\n",
       "<td><a href=\"gSiteReport2.php?siteID=22&amp;src=siteList\">Fry Pond Preserve</a></td>\n",
       "<td>2.1 miles</td>\n",
       "<td>intermediate</td>\n",
       "</tr>\n",
       "<tr>\n",
       "<td>West Greenwich, RI</td>\n",
       "<td><a href=\"gSiteReport2.php?siteID=23&amp;src=siteList\">Tillinghast Pond / Wickaboxet / Pratt Conservation Area</a></td>\n",
       "<td>10 miles</td>\n",
       "<td>easy</td>\n",
       "</tr>\n",
       "<tr>\n",
       "<td>Westerly, RI</td>\n",
       "<td><a href=\"gSiteReport2.php?siteID=9&amp;src=siteList\">Anderson Preserve</a></td>\n",
       "<td>0.3 miles</td>\n",
       "<td>easy</td>\n",
       "</tr>\n",
       "<tr>\n",
       "<td>Westerly, RI</td>\n",
       "<td><a href=\"gSiteReport2.php?siteID=3&amp;src=siteList\">Avondale Farm Preserve</a></td>\n",
       "<td>1.6 miles</td>\n",
       "<td>easy</td>\n",
       "</tr>\n",
       "<tr>\n",
       "<td>Westerly, RI</td>\n",
       "<td><a href=\"gSiteReport2.php?siteID=4&amp;src=siteList\">Dr. John Champlin Glacier Park</a></td>\n",
       "<td> </td>\n",
       "<td>intermediate</td>\n",
       "</tr>\n",
       "<tr>\n",
       "<td>Westerly, RI</td>\n",
       "<td><a href=\"gSiteReport2.php?siteID=5&amp;src=siteList\">Grills Preserve</a></td>\n",
       "<td>3 miles</td>\n",
       "<td>intermediate</td>\n",
       "</tr>\n",
       "<tr>\n",
       "<td>Westerly, RI</td>\n",
       "<td><a href=\"gSiteReport2.php?siteID=36&amp;src=siteList\">Lathrop Wildlife Refuge</a></td>\n",
       "<td>0.5 miles</td>\n",
       "<td>intermediate</td>\n",
       "</tr>\n",
       "<tr>\n",
       "<td>Westerly, RI</td>\n",
       "<td><a href=\"gSiteReport2.php?siteID=6&amp;src=siteList\">Mastuxet Brook Greenway</a></td>\n",
       "<td>0.3 miles</td>\n",
       "<td>easy</td>\n",
       "</tr>\n",
       "<tr>\n",
       "<td>Westerly, RI</td>\n",
       "<td><a href=\"gSiteReport2.php?siteID=7&amp;src=siteList\">Riverwood</a></td>\n",
       "<td>2 miles</td>\n",
       "<td>intermediate</td>\n",
       "</tr>\n",
       "<tr>\n",
       "<td>Westerly, RI</td>\n",
       "<td><a href=\"gSiteReport2.php?siteID=8&amp;src=siteList\">The Flora H. Whiteley Preserve</a></td>\n",
       "<td>0.3 miles</td>\n",
       "<td>easy</td>\n",
       "</tr>\n",
       "</table>"
      ]
     },
     "execution_count": 123,
     "metadata": {},
     "output_type": "execute_result"
    }
   ],
   "source": [
    "table"
   ]
  },
  {
   "cell_type": "code",
   "execution_count": null,
   "metadata": {
    "collapsed": true
   },
   "outputs": [],
   "source": []
  },
  {
   "cell_type": "code",
   "execution_count": 128,
   "metadata": {
    "collapsed": false
   },
   "outputs": [],
   "source": [
    "test3 = pd.read_html('http://exploreri.org/gtraillist.php')"
   ]
  },
  {
   "cell_type": "code",
   "execution_count": null,
   "metadata": {
    "collapsed": true
   },
   "outputs": [],
   "source": []
  },
  {
   "cell_type": "code",
   "execution_count": 129,
   "metadata": {
    "collapsed": false
   },
   "outputs": [
    {
     "data": {
      "text/plain": [
       "[                       0                                                  1  \\\n",
       " 0                   Town                                       Trail System   \n",
       " 1         Barrington, RI  Osamequin Nature Trails and Bird Sanctuary: 'F...   \n",
       " 2         Barrington, RI  Osamequin Nature Trails and Bird Sanctuary: 'S...   \n",
       " 3         Barrington, RI              Veterans Memorial Park - Eastern Side   \n",
       " 4            Bristol, RI  Claire D. McIntosh Wildlife Refuge/Environment...   \n",
       " 5            Bristol, RI                                    Mount Hope Farm   \n",
       " 6        Charlestown, RI                   Kimball Sanctuary, Watchaug Pond   \n",
       " 7           Coventry, RI          George B. Parker Woodland Wildlife Refuge   \n",
       " 8           Coventry, RI                       Maxwell Mays Wildlife Refuge   \n",
       " 9           Coventry, RI                                      Waterman Pond   \n",
       " 10        Cumberland, RI                              Geddes Bowen Preserve   \n",
       " 11        Cumberland, RI                 High Rock/Scott Brook/Tucker Field   \n",
       " 12        Cumberland, RI               Otis Smith Farm & Rowbottom Preserve   \n",
       " 13            Exeter, RI                  Fisherville Brook Wildlife Refuge   \n",
       " 14         Glocester, RI                                       Sprague Farm   \n",
       " 15         Glocester, RI                 Steere Hill Farm Conservation Area   \n",
       " 16         Hopkinton, RI                                 Diamond Hill Swamp   \n",
       " 17         Hopkinton, RI                                   Grills Sanctuary   \n",
       " 18         Hopkinton, RI                                  Kenyon Crossroads   \n",
       " 19         Hopkinton, RI                                    Long Pond Woods   \n",
       " 20         Hopkinton, RI                                   Pelloni Preserve   \n",
       " 21    Little Compton, RI                                Dundery Brook Trail   \n",
       " 22      Narragansett, RI                                     Canonchet Farm   \n",
       " 23   North Kingstown, RI                           Bush Hill Nature Reserve   \n",
       " 24   North Kingstown, RI                     Davis Memorial Wildlife Refuge   \n",
       " 25  North Smithfield, RI                               Fort Wildlife Refuge   \n",
       " 26        Portsmouth, RI                   Oakland Forest & Meadow Preserve   \n",
       " 27        Portsmouth, RI                            Sakonnet Greenway Trail   \n",
       " 28          Richmond, RI                                   Bradner Preserve   \n",
       " 29          Richmond, RI                                   Crawley Preserve   \n",
       " 30           Seekonk, MA                           Caratunk Wildlife Refuge   \n",
       " 31        Smithfield, RI                                         Mowry Farm   \n",
       " 32        Smithfield, RI                                    Olivia's Forest   \n",
       " 33        Smithfield, RI                 Powder Mill Ledges Wildlife Refuge   \n",
       " 34        Smithfield, RI                          Wolf Hill Forest Preserve   \n",
       " 35   South Kingstown, RI                                Browning Woods Farm   \n",
       " 36   South Kingstown, RI                                         DuVal Farm   \n",
       " 37   South Kingstown, RI                               Garrison House Acres   \n",
       " 38   South Kingstown, RI                                      Thewlis Woods   \n",
       " 39   South Kingstown, RI                                        Weeden Farm   \n",
       " 40   South Kingstown, RI                                  Yawgoo Pond Trail   \n",
       " 41          Tiverton, RI                              Basket Swamp Preserve   \n",
       " 42          Tiverton, RI                      Emily Ruecker Wildlife Refuge   \n",
       " 43          Tiverton, RI                   Fort Barton and Ft. Barton Woods   \n",
       " 44          Tiverton, RI                               Pardon Gray Preserve   \n",
       " 45          Tiverton, RI                                     Weetamoo Woods   \n",
       " 46            Warren, RI                     Touisset Marsh Wildlife Refuge   \n",
       " 47    West Greenwich, RI                                  Fry Pond Preserve   \n",
       " 48    West Greenwich, RI  Tillinghast Pond / Wickaboxet / Pratt Conserva...   \n",
       " 49          Westerly, RI                                  Anderson Preserve   \n",
       " 50          Westerly, RI                             Avondale Farm Preserve   \n",
       " 51          Westerly, RI                     Dr. John Champlin Glacier Park   \n",
       " 52          Westerly, RI                                    Grills Preserve   \n",
       " 53          Westerly, RI                            Lathrop Wildlife Refuge   \n",
       " 54          Westerly, RI                            Mastuxet Brook Greenway   \n",
       " 55          Westerly, RI                                          Riverwood   \n",
       " 56          Westerly, RI                     The Flora H. Whiteley Preserve   \n",
       " \n",
       "                  2             3  \n",
       " 0   Miles of Trail  Trail Rating  \n",
       " 1        1.5 miles          easy  \n",
       " 2        0.5 miles          easy  \n",
       " 3        2.5 miles          easy  \n",
       " 4        0.8 miles          easy  \n",
       " 5        2.5 miles          easy  \n",
       " 6        1.5 miles  intermediate  \n",
       " 7          5 miles  intermediate  \n",
       " 8        2.3 miles  intermediate  \n",
       " 9        0.1 miles  intermediate  \n",
       " 10       0.5 miles          easy  \n",
       " 11         3 miles  intermediate  \n",
       " 12         3 miles  intermediate  \n",
       " 13         5 miles  intermediate  \n",
       " 14         6 miles  intermediate  \n",
       " 15         6 miles  intermediate  \n",
       " 16       0.5 miles     difficult  \n",
       " 17         4 miles  intermediate  \n",
       " 18       2.3 miles  intermediate  \n",
       " 19         2 miles     difficult  \n",
       " 20       1.9 miles     difficult  \n",
       " 21       1.1 miles          easy  \n",
       " 22       1.5 miles          easy  \n",
       " 23       0.5 miles          easy  \n",
       " 24       1.5 miles  intermediate  \n",
       " 25         3 miles  intermediate  \n",
       " 26       0.6 miles          easy  \n",
       " 27        10 miles  intermediate  \n",
       " 28       1.3 miles  intermediate  \n",
       " 29         2 miles  intermediate  \n",
       " 30         6 miles  intermediate  \n",
       " 31          1 mile  intermediate  \n",
       " 32       0.7 miles  intermediate  \n",
       " 33       2.5 miles  intermediate  \n",
       " 34         6 miles  intermediate  \n",
       " 35         3 miles  intermediate  \n",
       " 36       3.5 miles  intermediate  \n",
       " 37          1 mile          easy  \n",
       " 38       0.8 miles          easy  \n",
       " 39       1.2 miles          easy  \n",
       " 40       1.7 miles  intermediate  \n",
       " 41         2 miles          easy  \n",
       " 42         2 miles  intermediate  \n",
       " 43       3.5 miles  intermediate  \n",
       " 44         3 miles          easy  \n",
       " 45         7 miles  intermediate  \n",
       " 46       1.5 miles  intermediate  \n",
       " 47       2.1 miles  intermediate  \n",
       " 48        10 miles          easy  \n",
       " 49       0.3 miles          easy  \n",
       " 50       1.6 miles          easy  \n",
       " 51             NaN  intermediate  \n",
       " 52         3 miles  intermediate  \n",
       " 53       0.5 miles  intermediate  \n",
       " 54       0.3 miles          easy  \n",
       " 55         2 miles  intermediate  \n",
       " 56       0.3 miles          easy  ]"
      ]
     },
     "execution_count": 129,
     "metadata": {},
     "output_type": "execute_result"
    }
   ],
   "source": [
    "test3"
   ]
  },
  {
   "cell_type": "code",
   "execution_count": null,
   "metadata": {
    "collapsed": true
   },
   "outputs": [],
   "source": []
  },
  {
   "cell_type": "code",
   "execution_count": null,
   "metadata": {
    "collapsed": true
   },
   "outputs": [],
   "source": []
  },
  {
   "cell_type": "code",
   "execution_count": null,
   "metadata": {
    "collapsed": true
   },
   "outputs": [],
   "source": []
  },
  {
   "cell_type": "code",
   "execution_count": 130,
   "metadata": {
    "collapsed": true
   },
   "outputs": [],
   "source": [
    "test4 = pd.read_html('http://exploreri.org/criteria.php')"
   ]
  },
  {
   "cell_type": "code",
   "execution_count": 134,
   "metadata": {
    "collapsed": false
   },
   "outputs": [],
   "source": [
    "table1 = test4[0]"
   ]
  },
  {
   "cell_type": "code",
   "execution_count": 136,
   "metadata": {
    "collapsed": false
   },
   "outputs": [
    {
     "data": {
      "text/plain": [
       "62"
      ]
     },
     "execution_count": 136,
     "metadata": {},
     "output_type": "execute_result"
    }
   ],
   "source": [
    "len(test4)"
   ]
  },
  {
   "cell_type": "code",
   "execution_count": 137,
   "metadata": {
    "collapsed": true
   },
   "outputs": [],
   "source": [
    "table1.to_excel('table1_scrape.xlsx')"
   ]
  },
  {
   "cell_type": "code",
   "execution_count": 143,
   "metadata": {
    "collapsed": false
   },
   "outputs": [],
   "source": [
    "z=1\n",
    "while z < len(test4)+1:\n",
    "    for i in test4:\n",
    "        i.to_excel(\"table{}.xlsx\".format(z))\n",
    "        z=z+1"
   ]
  },
  {
   "cell_type": "code",
   "execution_count": null,
   "metadata": {
    "collapsed": true
   },
   "outputs": [],
   "source": []
  },
  {
   "cell_type": "code",
   "execution_count": null,
   "metadata": {
    "collapsed": true
   },
   "outputs": [],
   "source": []
  },
  {
   "cell_type": "code",
   "execution_count": 141,
   "metadata": {
    "collapsed": false
   },
   "outputs": [
    {
     "data": {
      "text/plain": [
       "62"
      ]
     },
     "execution_count": 141,
     "metadata": {},
     "output_type": "execute_result"
    }
   ],
   "source": [
    "len(test4)"
   ]
  },
  {
   "cell_type": "code",
   "execution_count": null,
   "metadata": {
    "collapsed": true
   },
   "outputs": [],
   "source": []
  },
  {
   "cell_type": "code",
   "execution_count": null,
   "metadata": {
    "collapsed": true
   },
   "outputs": [],
   "source": []
  },
  {
   "cell_type": "code",
   "execution_count": null,
   "metadata": {
    "collapsed": true
   },
   "outputs": [],
   "source": []
  },
  {
   "cell_type": "code",
   "execution_count": null,
   "metadata": {
    "collapsed": true
   },
   "outputs": [],
   "source": []
  },
  {
   "cell_type": "code",
   "execution_count": null,
   "metadata": {
    "collapsed": true
   },
   "outputs": [],
   "source": []
  },
  {
   "cell_type": "code",
   "execution_count": null,
   "metadata": {
    "collapsed": true
   },
   "outputs": [],
   "source": []
  },
  {
   "cell_type": "code",
   "execution_count": null,
   "metadata": {
    "collapsed": true
   },
   "outputs": [],
   "source": []
  },
  {
   "cell_type": "code",
   "execution_count": null,
   "metadata": {
    "collapsed": true
   },
   "outputs": [],
   "source": []
  },
  {
   "cell_type": "code",
   "execution_count": null,
   "metadata": {
    "collapsed": true
   },
   "outputs": [],
   "source": []
  },
  {
   "cell_type": "code",
   "execution_count": null,
   "metadata": {
    "collapsed": true
   },
   "outputs": [],
   "source": []
  },
  {
   "cell_type": "code",
   "execution_count": null,
   "metadata": {
    "collapsed": true
   },
   "outputs": [],
   "source": []
  },
  {
   "cell_type": "code",
   "execution_count": null,
   "metadata": {
    "collapsed": true
   },
   "outputs": [],
   "source": []
  },
  {
   "cell_type": "code",
   "execution_count": null,
   "metadata": {
    "collapsed": true
   },
   "outputs": [],
   "source": []
  },
  {
   "cell_type": "code",
   "execution_count": null,
   "metadata": {
    "collapsed": true
   },
   "outputs": [],
   "source": []
  },
  {
   "cell_type": "code",
   "execution_count": null,
   "metadata": {
    "collapsed": true
   },
   "outputs": [],
   "source": []
  },
  {
   "cell_type": "code",
   "execution_count": null,
   "metadata": {
    "collapsed": true
   },
   "outputs": [],
   "source": []
  },
  {
   "cell_type": "code",
   "execution_count": null,
   "metadata": {
    "collapsed": true
   },
   "outputs": [],
   "source": []
  },
  {
   "cell_type": "code",
   "execution_count": null,
   "metadata": {
    "collapsed": true
   },
   "outputs": [],
   "source": []
  },
  {
   "cell_type": "code",
   "execution_count": null,
   "metadata": {
    "collapsed": true
   },
   "outputs": [],
   "source": []
  },
  {
   "cell_type": "code",
   "execution_count": null,
   "metadata": {
    "collapsed": true
   },
   "outputs": [],
   "source": []
  },
  {
   "cell_type": "code",
   "execution_count": null,
   "metadata": {
    "collapsed": true
   },
   "outputs": [],
   "source": []
  },
  {
   "cell_type": "code",
   "execution_count": null,
   "metadata": {
    "collapsed": true
   },
   "outputs": [],
   "source": []
  },
  {
   "cell_type": "code",
   "execution_count": null,
   "metadata": {
    "collapsed": true
   },
   "outputs": [],
   "source": []
  },
  {
   "cell_type": "code",
   "execution_count": null,
   "metadata": {
    "collapsed": true
   },
   "outputs": [],
   "source": []
  },
  {
   "cell_type": "code",
   "execution_count": null,
   "metadata": {
    "collapsed": true
   },
   "outputs": [],
   "source": []
  },
  {
   "cell_type": "code",
   "execution_count": null,
   "metadata": {
    "collapsed": true
   },
   "outputs": [],
   "source": []
  },
  {
   "cell_type": "code",
   "execution_count": null,
   "metadata": {
    "collapsed": true
   },
   "outputs": [],
   "source": []
  },
  {
   "cell_type": "code",
   "execution_count": null,
   "metadata": {
    "collapsed": true
   },
   "outputs": [],
   "source": []
  },
  {
   "cell_type": "code",
   "execution_count": null,
   "metadata": {
    "collapsed": true
   },
   "outputs": [],
   "source": []
  },
  {
   "cell_type": "code",
   "execution_count": null,
   "metadata": {
    "collapsed": true
   },
   "outputs": [],
   "source": []
  },
  {
   "cell_type": "code",
   "execution_count": null,
   "metadata": {
    "collapsed": true
   },
   "outputs": [],
   "source": []
  },
  {
   "cell_type": "code",
   "execution_count": null,
   "metadata": {
    "collapsed": true
   },
   "outputs": [],
   "source": []
  },
  {
   "cell_type": "code",
   "execution_count": null,
   "metadata": {
    "collapsed": true
   },
   "outputs": [],
   "source": []
  },
  {
   "cell_type": "code",
   "execution_count": null,
   "metadata": {
    "collapsed": true
   },
   "outputs": [],
   "source": []
  },
  {
   "cell_type": "code",
   "execution_count": null,
   "metadata": {
    "collapsed": true
   },
   "outputs": [],
   "source": []
  },
  {
   "cell_type": "code",
   "execution_count": null,
   "metadata": {
    "collapsed": true
   },
   "outputs": [],
   "source": []
  },
  {
   "cell_type": "code",
   "execution_count": null,
   "metadata": {
    "collapsed": true
   },
   "outputs": [],
   "source": []
  },
  {
   "cell_type": "code",
   "execution_count": null,
   "metadata": {
    "collapsed": true
   },
   "outputs": [],
   "source": []
  },
  {
   "cell_type": "code",
   "execution_count": null,
   "metadata": {
    "collapsed": true
   },
   "outputs": [],
   "source": []
  },
  {
   "cell_type": "code",
   "execution_count": null,
   "metadata": {
    "collapsed": true
   },
   "outputs": [],
   "source": []
  },
  {
   "cell_type": "code",
   "execution_count": null,
   "metadata": {
    "collapsed": true
   },
   "outputs": [],
   "source": []
  },
  {
   "cell_type": "code",
   "execution_count": null,
   "metadata": {
    "collapsed": true
   },
   "outputs": [],
   "source": []
  },
  {
   "cell_type": "code",
   "execution_count": null,
   "metadata": {
    "collapsed": true
   },
   "outputs": [],
   "source": []
  },
  {
   "cell_type": "code",
   "execution_count": null,
   "metadata": {
    "collapsed": true
   },
   "outputs": [],
   "source": []
  },
  {
   "cell_type": "code",
   "execution_count": null,
   "metadata": {
    "collapsed": true
   },
   "outputs": [],
   "source": []
  },
  {
   "cell_type": "code",
   "execution_count": null,
   "metadata": {
    "collapsed": true
   },
   "outputs": [],
   "source": []
  },
  {
   "cell_type": "code",
   "execution_count": null,
   "metadata": {
    "collapsed": true
   },
   "outputs": [],
   "source": []
  },
  {
   "cell_type": "code",
   "execution_count": null,
   "metadata": {
    "collapsed": true
   },
   "outputs": [],
   "source": []
  },
  {
   "cell_type": "code",
   "execution_count": null,
   "metadata": {
    "collapsed": true
   },
   "outputs": [],
   "source": []
  },
  {
   "cell_type": "code",
   "execution_count": null,
   "metadata": {
    "collapsed": true
   },
   "outputs": [],
   "source": []
  },
  {
   "cell_type": "code",
   "execution_count": null,
   "metadata": {
    "collapsed": true
   },
   "outputs": [],
   "source": []
  },
  {
   "cell_type": "code",
   "execution_count": null,
   "metadata": {
    "collapsed": true
   },
   "outputs": [],
   "source": []
  },
  {
   "cell_type": "code",
   "execution_count": null,
   "metadata": {
    "collapsed": true
   },
   "outputs": [],
   "source": []
  },
  {
   "cell_type": "code",
   "execution_count": null,
   "metadata": {
    "collapsed": true
   },
   "outputs": [],
   "source": []
  },
  {
   "cell_type": "code",
   "execution_count": null,
   "metadata": {
    "collapsed": true
   },
   "outputs": [],
   "source": []
  },
  {
   "cell_type": "code",
   "execution_count": null,
   "metadata": {
    "collapsed": true
   },
   "outputs": [],
   "source": []
  },
  {
   "cell_type": "code",
   "execution_count": null,
   "metadata": {
    "collapsed": true
   },
   "outputs": [],
   "source": []
  },
  {
   "cell_type": "code",
   "execution_count": 66,
   "metadata": {
    "collapsed": true
   },
   "outputs": [],
   "source": [
    "exri = requests.get(\"http://exploreri.org/gtraillist.php\")"
   ]
  },
  {
   "cell_type": "code",
   "execution_count": null,
   "metadata": {
    "collapsed": true
   },
   "outputs": [],
   "source": []
  },
  {
   "cell_type": "code",
   "execution_count": null,
   "metadata": {
    "collapsed": true
   },
   "outputs": [],
   "source": []
  },
  {
   "cell_type": "code",
   "execution_count": null,
   "metadata": {
    "collapsed": true
   },
   "outputs": [],
   "source": []
  },
  {
   "cell_type": "code",
   "execution_count": null,
   "metadata": {
    "collapsed": true
   },
   "outputs": [],
   "source": []
  },
  {
   "cell_type": "code",
   "execution_count": null,
   "metadata": {
    "collapsed": true
   },
   "outputs": [],
   "source": []
  },
  {
   "cell_type": "code",
   "execution_count": null,
   "metadata": {
    "collapsed": true
   },
   "outputs": [],
   "source": []
  },
  {
   "cell_type": "code",
   "execution_count": null,
   "metadata": {
    "collapsed": true
   },
   "outputs": [],
   "source": []
  },
  {
   "cell_type": "code",
   "execution_count": null,
   "metadata": {
    "collapsed": true
   },
   "outputs": [],
   "source": []
  },
  {
   "cell_type": "code",
   "execution_count": 49,
   "metadata": {
    "collapsed": false
   },
   "outputs": [],
   "source": [
    "test.to_csv(\"test_join.csv\")"
   ]
  },
  {
   "cell_type": "code",
   "execution_count": null,
   "metadata": {
    "collapsed": true
   },
   "outputs": [],
   "source": []
  },
  {
   "cell_type": "code",
   "execution_count": null,
   "metadata": {
    "collapsed": true
   },
   "outputs": [],
   "source": []
  },
  {
   "cell_type": "code",
   "execution_count": null,
   "metadata": {
    "collapsed": true
   },
   "outputs": [],
   "source": []
  },
  {
   "cell_type": "code",
   "execution_count": null,
   "metadata": {
    "collapsed": true
   },
   "outputs": [],
   "source": []
  },
  {
   "cell_type": "code",
   "execution_count": null,
   "metadata": {
    "collapsed": true
   },
   "outputs": [],
   "source": []
  },
  {
   "cell_type": "code",
   "execution_count": null,
   "metadata": {
    "collapsed": true
   },
   "outputs": [],
   "source": []
  },
  {
   "cell_type": "code",
   "execution_count": null,
   "metadata": {
    "collapsed": true
   },
   "outputs": [],
   "source": []
  },
  {
   "cell_type": "code",
   "execution_count": null,
   "metadata": {
    "collapsed": true
   },
   "outputs": [],
   "source": []
  },
  {
   "cell_type": "code",
   "execution_count": null,
   "metadata": {
    "collapsed": true
   },
   "outputs": [],
   "source": []
  },
  {
   "cell_type": "code",
   "execution_count": null,
   "metadata": {
    "collapsed": true
   },
   "outputs": [],
   "source": []
  },
  {
   "cell_type": "code",
   "execution_count": null,
   "metadata": {
    "collapsed": true
   },
   "outputs": [],
   "source": []
  },
  {
   "cell_type": "code",
   "execution_count": null,
   "metadata": {
    "collapsed": true
   },
   "outputs": [],
   "source": []
  },
  {
   "cell_type": "code",
   "execution_count": null,
   "metadata": {
    "collapsed": true
   },
   "outputs": [],
   "source": []
  },
  {
   "cell_type": "code",
   "execution_count": null,
   "metadata": {
    "collapsed": true
   },
   "outputs": [],
   "source": []
  },
  {
   "cell_type": "code",
   "execution_count": null,
   "metadata": {
    "collapsed": true
   },
   "outputs": [],
   "source": []
  },
  {
   "cell_type": "code",
   "execution_count": null,
   "metadata": {
    "collapsed": true
   },
   "outputs": [],
   "source": []
  },
  {
   "cell_type": "code",
   "execution_count": 18,
   "metadata": {
    "collapsed": false
   },
   "outputs": [],
   "source": []
  },
  {
   "cell_type": "code",
   "execution_count": 28,
   "metadata": {
    "collapsed": false
   },
   "outputs": [
    {
     "data": {
      "text/html": [
       "<div>\n",
       "<table border=\"1\" class=\"dataframe\">\n",
       "  <thead>\n",
       "    <tr style=\"text-align: right;\">\n",
       "      <th></th>\n",
       "      <th>contact</th>\n",
       "      <th>website</th>\n",
       "      <th>town_description</th>\n",
       "      <th>town</th>\n",
       "      <th>beach_name</th>\n",
       "      <th>description</th>\n",
       "    </tr>\n",
       "  </thead>\n",
       "  <tbody>\n",
       "    <tr>\n",
       "      <th>0</th>\n",
       "      <td>(401) 466-3223</td>\n",
       "      <td>blockislandinfo.com</td>\n",
       "      <td>All beaches on Block Island are public and fre...</td>\n",
       "      <td>BLOCK ISLAND</td>\n",
       "      <td>Andy's Way Beach</td>\n",
       "      <td>Great beach for small children in the Great S...</td>\n",
       "    </tr>\n",
       "    <tr>\n",
       "      <th>1</th>\n",
       "      <td>(401) 466-3223</td>\n",
       "      <td>blockislandinfo.com</td>\n",
       "      <td>All beaches on Block Island are public and fre...</td>\n",
       "      <td>BLOCK ISLAND</td>\n",
       "      <td>Ballard's Beach</td>\n",
       "      <td>This sandy beach adjacent to Ballard's Inn of...</td>\n",
       "    </tr>\n",
       "    <tr>\n",
       "      <th>2</th>\n",
       "      <td>(401) 466-3223</td>\n",
       "      <td>blockislandinfo.com</td>\n",
       "      <td>All beaches on Block Island are public and fre...</td>\n",
       "      <td>BLOCK ISLAND</td>\n",
       "      <td>Charlestown Beach</td>\n",
       "      <td>Limited swimming, but great fishing. One of t...</td>\n",
       "    </tr>\n",
       "    <tr>\n",
       "      <th>3</th>\n",
       "      <td>(401) 466-3223</td>\n",
       "      <td>blockislandinfo.com</td>\n",
       "      <td>All beaches on Block Island are public and fre...</td>\n",
       "      <td>BLOCK ISLAND</td>\n",
       "      <td>Crescent Beach</td>\n",
       "      <td>The 3-mile stretch that runs from the Surf Ho...</td>\n",
       "    </tr>\n",
       "    <tr>\n",
       "      <th>4</th>\n",
       "      <td>(401) 466-3223</td>\n",
       "      <td>blockislandinfo.com</td>\n",
       "      <td>All beaches on Block Island are public and fre...</td>\n",
       "      <td>BLOCK ISLAND</td>\n",
       "      <td>Mohegan Bluffs</td>\n",
       "      <td>Spectacular sandy beach set under cliffs on t...</td>\n",
       "    </tr>\n",
       "    <tr>\n",
       "      <th>5</th>\n",
       "      <td>(401) 253-1611</td>\n",
       "      <td>bristolri.us/facilities</td>\n",
       "      <td>NaN</td>\n",
       "      <td>BRISTOL</td>\n",
       "      <td>Town Beach</td>\n",
       "      <td>Small, calm-water beach next to Colt State Park.</td>\n",
       "    </tr>\n",
       "    <tr>\n",
       "      <th>6</th>\n",
       "      <td>(401) 364-1222</td>\n",
       "      <td>charlestownri.org</td>\n",
       "      <td>NaN</td>\n",
       "      <td>CHARLESTOWN</td>\n",
       "      <td>Blue Shutters Town Beach</td>\n",
       "      <td>Good sand, surf and rustic pavilion. Popular ...</td>\n",
       "    </tr>\n",
       "    <tr>\n",
       "      <th>7</th>\n",
       "      <td>(401) 364-1222</td>\n",
       "      <td>charlestownri.org</td>\n",
       "      <td>NaN</td>\n",
       "      <td>CHARLESTOWN</td>\n",
       "      <td>Charlestown Breachway</td>\n",
       "      <td>State beach that borders Ninigret Pond.</td>\n",
       "    </tr>\n",
       "    <tr>\n",
       "      <th>8</th>\n",
       "      <td>(401) 364-1222</td>\n",
       "      <td>charlestownri.org</td>\n",
       "      <td>NaN</td>\n",
       "      <td>CHARLESTOWN</td>\n",
       "      <td>Charlestown Town Beach</td>\n",
       "      <td>Next to Breachway, with fine sand and surf.</td>\n",
       "    </tr>\n",
       "    <tr>\n",
       "      <th>9</th>\n",
       "      <td>(401) 364-1222</td>\n",
       "      <td>charlestownri.org</td>\n",
       "      <td>NaN</td>\n",
       "      <td>CHARLESTOWN</td>\n",
       "      <td>East State Beach</td>\n",
       "      <td>(Ninigret Conservation Area) Three-mile state...</td>\n",
       "    </tr>\n",
       "    <tr>\n",
       "      <th>10</th>\n",
       "      <td>(401) 423-7260</td>\n",
       "      <td>jamestownri.gov</td>\n",
       "      <td>NaN</td>\n",
       "      <td>JAMESTOWN</td>\n",
       "      <td>Shores Beach</td>\n",
       "      <td>(Head's Beach) Small beach in Jamestown Shore...</td>\n",
       "    </tr>\n",
       "    <tr>\n",
       "      <th>11</th>\n",
       "      <td>(401) 423-7260</td>\n",
       "      <td>jamestownri.gov</td>\n",
       "      <td>NaN</td>\n",
       "      <td>JAMESTOWN</td>\n",
       "      <td>Mackerel Cove Town Beach</td>\n",
       "      <td>Gravelly sand, shallow with exposed sandbar a...</td>\n",
       "    </tr>\n",
       "    <tr>\n",
       "      <th>12</th>\n",
       "      <td>(401) 423-7260</td>\n",
       "      <td>jamestownri.gov</td>\n",
       "      <td>NaN</td>\n",
       "      <td>JAMESTOWN</td>\n",
       "      <td>Potter Cove Beach</td>\n",
       "      <td>Small, stony beach at base of Newport Bridge,...</td>\n",
       "    </tr>\n",
       "    <tr>\n",
       "      <th>13</th>\n",
       "      <td>(401) 635-4400</td>\n",
       "      <td>little-compton.com</td>\n",
       "      <td>NaN</td>\n",
       "      <td>LITTLE COMPTON</td>\n",
       "      <td>Goosewing Beach</td>\n",
       "      <td>Picturesque, studded with boulders, accessibl...</td>\n",
       "    </tr>\n",
       "    <tr>\n",
       "      <th>14</th>\n",
       "      <td>(401) 635-4400</td>\n",
       "      <td>little-compton.com</td>\n",
       "      <td>NaN</td>\n",
       "      <td>LITTLE COMPTON</td>\n",
       "      <td>South Shore Beach</td>\n",
       "      <td>(Little Compton Town Beach) Serene but stony,...</td>\n",
       "    </tr>\n",
       "    <tr>\n",
       "      <th>15</th>\n",
       "      <td>(401) 849-2822</td>\n",
       "      <td>middletownri.com</td>\n",
       "      <td>NaN</td>\n",
       "      <td>MIDDLETOWN</td>\n",
       "      <td>Sachuest Beach</td>\n",
       "      <td>(Second Beach) Fine white sand, surf and good...</td>\n",
       "    </tr>\n",
       "    <tr>\n",
       "      <th>16</th>\n",
       "      <td>(401) 849-2822</td>\n",
       "      <td>middletownri.com</td>\n",
       "      <td>NaN</td>\n",
       "      <td>MIDDLETOWN</td>\n",
       "      <td>Third Beach</td>\n",
       "      <td>Popular with boaters, windsurfers and families.</td>\n",
       "    </tr>\n",
       "    <tr>\n",
       "      <th>17</th>\n",
       "      <td>(401) 782-0658</td>\n",
       "      <td>narragansettri.gov</td>\n",
       "      <td>NaN</td>\n",
       "      <td>NARRAGANSETT</td>\n",
       "      <td>Narragansett Town Beach</td>\n",
       "      <td>Often crowded, popular with surfers. Pavilion...</td>\n",
       "    </tr>\n",
       "    <tr>\n",
       "      <th>18</th>\n",
       "      <td>(401) 782-0658</td>\n",
       "      <td>narragansettri.gov</td>\n",
       "      <td>NaN</td>\n",
       "      <td>NARRAGANSETT</td>\n",
       "      <td>Roger W. Wheeler State Beach</td>\n",
       "      <td>(Sand Hill Cove) Shallow, calm beach with lar...</td>\n",
       "    </tr>\n",
       "    <tr>\n",
       "      <th>19</th>\n",
       "      <td>(401) 782-0658</td>\n",
       "      <td>narragansettri.gov</td>\n",
       "      <td>NaN</td>\n",
       "      <td>NARRAGANSETT</td>\n",
       "      <td>Salty Brine State Beach</td>\n",
       "      <td>Gentle surf, solar- and wind-powered pavilion...</td>\n",
       "    </tr>\n",
       "    <tr>\n",
       "      <th>20</th>\n",
       "      <td>(401) 782-0658</td>\n",
       "      <td>narragansettri.gov</td>\n",
       "      <td>NaN</td>\n",
       "      <td>NARRAGANSETT</td>\n",
       "      <td>Scarborough State Beaches</td>\n",
       "      <td>(North and South) Stone pavilion, fine sand a...</td>\n",
       "    </tr>\n",
       "    <tr>\n",
       "      <th>21</th>\n",
       "      <td>(401) 845-5810</td>\n",
       "      <td>cityofnewport.com</td>\n",
       "      <td>NaN</td>\n",
       "      <td>NEWPORT</td>\n",
       "      <td>Easton's Beach</td>\n",
       "      <td>(First Beach) Broad, city-run beach next to C...</td>\n",
       "    </tr>\n",
       "    <tr>\n",
       "      <th>22</th>\n",
       "      <td>(401) 845-5810</td>\n",
       "      <td>cityofnewport.com</td>\n",
       "      <td>NaN</td>\n",
       "      <td>NEWPORT</td>\n",
       "      <td>Fort Adams State Park Beach</td>\n",
       "      <td>Small, calm cove in state park. Popular with ...</td>\n",
       "    </tr>\n",
       "    <tr>\n",
       "      <th>23</th>\n",
       "      <td>(401) 845-5810</td>\n",
       "      <td>cityofnewport.com</td>\n",
       "      <td>NaN</td>\n",
       "      <td>NEWPORT</td>\n",
       "      <td>Gooseberry Beach</td>\n",
       "      <td>Private beach club on Ocean Drive that is ope...</td>\n",
       "    </tr>\n",
       "    <tr>\n",
       "      <th>24</th>\n",
       "      <td>(401) 845-5810</td>\n",
       "      <td>cityofnewport.com</td>\n",
       "      <td>NaN</td>\n",
       "      <td>NEWPORT</td>\n",
       "      <td>King Park Beach</td>\n",
       "      <td>Urban city-run park with playground overlooki...</td>\n",
       "    </tr>\n",
       "    <tr>\n",
       "      <th>25</th>\n",
       "      <td>(401) 294-3331</td>\n",
       "      <td>northkingstown.org</td>\n",
       "      <td>NaN</td>\n",
       "      <td>NORTH KINGSTOWN</td>\n",
       "      <td>North Kingstown Town Beach</td>\n",
       "      <td>Calm beach popular with families.</td>\n",
       "    </tr>\n",
       "    <tr>\n",
       "      <th>26</th>\n",
       "      <td>(401) 294-3331</td>\n",
       "      <td>northkingstown.org</td>\n",
       "      <td>NaN</td>\n",
       "      <td>NORTH KINGSTOWN</td>\n",
       "      <td>Blue, Compass Rose, Calf Pasture Point and Spi...</td>\n",
       "      <td>Four calm, West Passage beaches on former Nav...</td>\n",
       "    </tr>\n",
       "    <tr>\n",
       "      <th>27</th>\n",
       "      <td>(401) 294-3331</td>\n",
       "      <td>northkingstown.org</td>\n",
       "      <td>NaN</td>\n",
       "      <td>NORTH KINGSTOWN</td>\n",
       "      <td>Rome Point</td>\n",
       "      <td>(within the John H. Chafee Nature Preserve) A...</td>\n",
       "    </tr>\n",
       "    <tr>\n",
       "      <th>28</th>\n",
       "      <td>(401) 683-2101</td>\n",
       "      <td>portsmouthri.com/168/Beaches</td>\n",
       "      <td>NaN</td>\n",
       "      <td>PORTSMOUTH</td>\n",
       "      <td>Sandy Point Beach</td>\n",
       "      <td>Shallow water on Sakonnet River.</td>\n",
       "    </tr>\n",
       "    <tr>\n",
       "      <th>29</th>\n",
       "      <td>(401) 683-2101</td>\n",
       "      <td>portsmouthri.com/168/Beaches</td>\n",
       "      <td>NaN</td>\n",
       "      <td>PORTSMOUTH</td>\n",
       "      <td>Teddy's Beach</td>\n",
       "      <td>Tiny, state-owned beach on Park Avenue in Isl...</td>\n",
       "    </tr>\n",
       "    <tr>\n",
       "      <th>30</th>\n",
       "      <td>(401) 789-9301</td>\n",
       "      <td>southkingstownri.com/visitors</td>\n",
       "      <td>NaN</td>\n",
       "      <td>SOUTH KINGSTOWN</td>\n",
       "      <td>East Matunuck State Beach</td>\n",
       "      <td>Often crowded, beautiful state beach with str...</td>\n",
       "    </tr>\n",
       "    <tr>\n",
       "      <th>31</th>\n",
       "      <td>(401) 789-9301</td>\n",
       "      <td>southkingstownri.com/visitors</td>\n",
       "      <td>NaN</td>\n",
       "      <td>SOUTH KINGSTOWN</td>\n",
       "      <td>Town Beach at Matunuck</td>\n",
       "      <td>Boardwalk and playground.</td>\n",
       "    </tr>\n",
       "    <tr>\n",
       "      <th>32</th>\n",
       "      <td>(401) 625-6710</td>\n",
       "      <td>www.tiverton.ri.gov/boards/recreation.php</td>\n",
       "      <td>NaN</td>\n",
       "      <td>TIVERTON</td>\n",
       "      <td>Fogland Beach</td>\n",
       "      <td>Calm water, popular with windsurfers and fami...</td>\n",
       "    </tr>\n",
       "    <tr>\n",
       "      <th>33</th>\n",
       "      <td>(401) 603-4174</td>\n",
       "      <td>townofwarren-ri.gov/visitingwarren/thewaterfro...</td>\n",
       "      <td>NaN</td>\n",
       "      <td>WARREN</td>\n",
       "      <td>Warren Town Beach</td>\n",
       "      <td>Family-friendly beach on the Warren River.</td>\n",
       "    </tr>\n",
       "    <tr>\n",
       "      <th>34</th>\n",
       "      <td>(401) 738-2000, x6504</td>\n",
       "      <td>go to warwickri.gov, parks and recreation, th...</td>\n",
       "      <td>NaN</td>\n",
       "      <td>WARWICK</td>\n",
       "      <td>City Park</td>\n",
       "      <td>(Buttonwoods Beach) Busy city park with play ...</td>\n",
       "    </tr>\n",
       "    <tr>\n",
       "      <th>35</th>\n",
       "      <td>(401) 738-2000, x6504</td>\n",
       "      <td>go to warwickri.gov, parks and recreation, th...</td>\n",
       "      <td>NaN</td>\n",
       "      <td>WARWICK</td>\n",
       "      <td>Conimicut Point Beach</td>\n",
       "      <td>Good for sunbathing and view of the Bay.</td>\n",
       "    </tr>\n",
       "    <tr>\n",
       "      <th>36</th>\n",
       "      <td>(401) 738-2000, x6504</td>\n",
       "      <td>go to warwickri.gov, parks and recreation, th...</td>\n",
       "      <td>NaN</td>\n",
       "      <td>WARWICK</td>\n",
       "      <td>Goddard Memorial State Park</td>\n",
       "      <td>Beach located in one of Rhode Island's premie...</td>\n",
       "    </tr>\n",
       "    <tr>\n",
       "      <th>37</th>\n",
       "      <td>(401) 738-2000, x6504</td>\n",
       "      <td>go to warwickri.gov, parks and recreation, th...</td>\n",
       "      <td>NaN</td>\n",
       "      <td>WARWICK</td>\n",
       "      <td>Oakland Beach</td>\n",
       "      <td>Small suburban beach with restaurants nearby.</td>\n",
       "    </tr>\n",
       "    <tr>\n",
       "      <th>38</th>\n",
       "      <td>(401) 738-2000, x6504</td>\n",
       "      <td>go to warwickri.gov, parks and recreation, th...</td>\n",
       "      <td>NaN</td>\n",
       "      <td>WARWICK</td>\n",
       "      <td>Sandy Point Beach</td>\n",
       "      <td>Lovely beach, limited parking.</td>\n",
       "    </tr>\n",
       "    <tr>\n",
       "      <th>39</th>\n",
       "      <td>(401) 348-2715</td>\n",
       "      <td>westerlyrec.com</td>\n",
       "      <td>NaN</td>\n",
       "      <td>NaN</td>\n",
       "      <td>NaN</td>\n",
       "      <td>NaN</td>\n",
       "    </tr>\n",
       "    <tr>\n",
       "      <th>40</th>\n",
       "      <td>(401) 348-2715</td>\n",
       "      <td>westerlyrec.com</td>\n",
       "      <td>NaN</td>\n",
       "      <td>WESTERLY</td>\n",
       "      <td>Misquamicut State Beach</td>\n",
       "      <td>Popular beach with good sand and steady surf,...</td>\n",
       "    </tr>\n",
       "    <tr>\n",
       "      <th>41</th>\n",
       "      <td>(401) 348-2715</td>\n",
       "      <td>westerlyrec.com</td>\n",
       "      <td>NaN</td>\n",
       "      <td>WESTERLY</td>\n",
       "      <td>Napatree Point</td>\n",
       "      <td>Popular for nature walks and birding, no life...</td>\n",
       "    </tr>\n",
       "    <tr>\n",
       "      <th>42</th>\n",
       "      <td>(401) 348-2715</td>\n",
       "      <td>westerlyrec.com</td>\n",
       "      <td>NaN</td>\n",
       "      <td>WESTERLY</td>\n",
       "      <td>Wuskenau Beach</td>\n",
       "      <td>Town-owned beach.</td>\n",
       "    </tr>\n",
       "  </tbody>\n",
       "</table>\n",
       "</div>"
      ],
      "text/plain": [
       "                  contact                                            website  \\\n",
       "0          (401) 466-3223                                blockislandinfo.com   \n",
       "1          (401) 466-3223                                blockislandinfo.com   \n",
       "2          (401) 466-3223                                blockislandinfo.com   \n",
       "3          (401) 466-3223                                blockislandinfo.com   \n",
       "4          (401) 466-3223                                blockislandinfo.com   \n",
       "5          (401) 253-1611                            bristolri.us/facilities   \n",
       "6          (401) 364-1222                                  charlestownri.org   \n",
       "7          (401) 364-1222                                  charlestownri.org   \n",
       "8          (401) 364-1222                                  charlestownri.org   \n",
       "9          (401) 364-1222                                  charlestownri.org   \n",
       "10         (401) 423-7260                                    jamestownri.gov   \n",
       "11         (401) 423-7260                                    jamestownri.gov   \n",
       "12         (401) 423-7260                                    jamestownri.gov   \n",
       "13         (401) 635-4400                                 little-compton.com   \n",
       "14         (401) 635-4400                                 little-compton.com   \n",
       "15         (401) 849-2822                                   middletownri.com   \n",
       "16         (401) 849-2822                                   middletownri.com   \n",
       "17         (401) 782-0658                                 narragansettri.gov   \n",
       "18         (401) 782-0658                                 narragansettri.gov   \n",
       "19         (401) 782-0658                                 narragansettri.gov   \n",
       "20         (401) 782-0658                                 narragansettri.gov   \n",
       "21         (401) 845-5810                                  cityofnewport.com   \n",
       "22         (401) 845-5810                                  cityofnewport.com   \n",
       "23         (401) 845-5810                                  cityofnewport.com   \n",
       "24         (401) 845-5810                                  cityofnewport.com   \n",
       "25         (401) 294-3331                                 northkingstown.org   \n",
       "26         (401) 294-3331                                 northkingstown.org   \n",
       "27         (401) 294-3331                                 northkingstown.org   \n",
       "28         (401) 683-2101                       portsmouthri.com/168/Beaches   \n",
       "29         (401) 683-2101                       portsmouthri.com/168/Beaches   \n",
       "30         (401) 789-9301                      southkingstownri.com/visitors   \n",
       "31         (401) 789-9301                      southkingstownri.com/visitors   \n",
       "32        (401) 625-6710           www.tiverton.ri.gov/boards/recreation.php   \n",
       "33         (401) 603-4174  townofwarren-ri.gov/visitingwarren/thewaterfro...   \n",
       "34  (401) 738-2000, x6504   go to warwickri.gov, parks and recreation, th...   \n",
       "35  (401) 738-2000, x6504   go to warwickri.gov, parks and recreation, th...   \n",
       "36  (401) 738-2000, x6504   go to warwickri.gov, parks and recreation, th...   \n",
       "37  (401) 738-2000, x6504   go to warwickri.gov, parks and recreation, th...   \n",
       "38  (401) 738-2000, x6504   go to warwickri.gov, parks and recreation, th...   \n",
       "39         (401) 348-2715                                    westerlyrec.com   \n",
       "40         (401) 348-2715                                    westerlyrec.com   \n",
       "41         (401) 348-2715                                    westerlyrec.com   \n",
       "42         (401) 348-2715                                    westerlyrec.com   \n",
       "\n",
       "                                     town_description             town  \\\n",
       "0   All beaches on Block Island are public and fre...     BLOCK ISLAND   \n",
       "1   All beaches on Block Island are public and fre...     BLOCK ISLAND   \n",
       "2   All beaches on Block Island are public and fre...     BLOCK ISLAND   \n",
       "3   All beaches on Block Island are public and fre...     BLOCK ISLAND   \n",
       "4   All beaches on Block Island are public and fre...     BLOCK ISLAND   \n",
       "5                                                 NaN          BRISTOL   \n",
       "6                                                 NaN      CHARLESTOWN   \n",
       "7                                                 NaN      CHARLESTOWN   \n",
       "8                                                 NaN      CHARLESTOWN   \n",
       "9                                                 NaN      CHARLESTOWN   \n",
       "10                                                NaN        JAMESTOWN   \n",
       "11                                                NaN        JAMESTOWN   \n",
       "12                                                NaN        JAMESTOWN   \n",
       "13                                                NaN   LITTLE COMPTON   \n",
       "14                                                NaN   LITTLE COMPTON   \n",
       "15                                                NaN       MIDDLETOWN   \n",
       "16                                                NaN       MIDDLETOWN   \n",
       "17                                                NaN     NARRAGANSETT   \n",
       "18                                                NaN     NARRAGANSETT   \n",
       "19                                                NaN     NARRAGANSETT   \n",
       "20                                                NaN     NARRAGANSETT   \n",
       "21                                                NaN          NEWPORT   \n",
       "22                                                NaN          NEWPORT   \n",
       "23                                                NaN          NEWPORT   \n",
       "24                                                NaN          NEWPORT   \n",
       "25                                                NaN  NORTH KINGSTOWN   \n",
       "26                                                NaN  NORTH KINGSTOWN   \n",
       "27                                                NaN  NORTH KINGSTOWN   \n",
       "28                                                NaN       PORTSMOUTH   \n",
       "29                                                NaN       PORTSMOUTH   \n",
       "30                                                NaN  SOUTH KINGSTOWN   \n",
       "31                                                NaN  SOUTH KINGSTOWN   \n",
       "32                                                NaN         TIVERTON   \n",
       "33                                                NaN           WARREN   \n",
       "34                                                NaN          WARWICK   \n",
       "35                                                NaN          WARWICK   \n",
       "36                                                NaN          WARWICK   \n",
       "37                                                NaN          WARWICK   \n",
       "38                                                NaN          WARWICK   \n",
       "39                                                NaN              NaN   \n",
       "40                                                NaN         WESTERLY   \n",
       "41                                                NaN         WESTERLY   \n",
       "42                                                NaN         WESTERLY   \n",
       "\n",
       "                                           beach_name  \\\n",
       "0                                    Andy's Way Beach   \n",
       "1                                     Ballard's Beach   \n",
       "2                                   Charlestown Beach   \n",
       "3                                      Crescent Beach   \n",
       "4                                      Mohegan Bluffs   \n",
       "5                                          Town Beach   \n",
       "6                            Blue Shutters Town Beach   \n",
       "7                               Charlestown Breachway   \n",
       "8                              Charlestown Town Beach   \n",
       "9                                    East State Beach   \n",
       "10                                       Shores Beach   \n",
       "11                           Mackerel Cove Town Beach   \n",
       "12                                  Potter Cove Beach   \n",
       "13                                    Goosewing Beach   \n",
       "14                                  South Shore Beach   \n",
       "15                                     Sachuest Beach   \n",
       "16                                        Third Beach   \n",
       "17                            Narragansett Town Beach   \n",
       "18                       Roger W. Wheeler State Beach   \n",
       "19                            Salty Brine State Beach   \n",
       "20                          Scarborough State Beaches   \n",
       "21                                     Easton's Beach   \n",
       "22                        Fort Adams State Park Beach   \n",
       "23                                   Gooseberry Beach   \n",
       "24                                    King Park Beach   \n",
       "25                         North Kingstown Town Beach   \n",
       "26  Blue, Compass Rose, Calf Pasture Point and Spi...   \n",
       "27                                         Rome Point   \n",
       "28                                  Sandy Point Beach   \n",
       "29                                      Teddy's Beach   \n",
       "30                          East Matunuck State Beach   \n",
       "31                             Town Beach at Matunuck   \n",
       "32                                      Fogland Beach   \n",
       "33                                  Warren Town Beach   \n",
       "34                                          City Park   \n",
       "35                              Conimicut Point Beach   \n",
       "36                        Goddard Memorial State Park   \n",
       "37                                      Oakland Beach   \n",
       "38                                  Sandy Point Beach   \n",
       "39                                                NaN   \n",
       "40                            Misquamicut State Beach   \n",
       "41                                     Napatree Point   \n",
       "42                                     Wuskenau Beach   \n",
       "\n",
       "                                          description  \n",
       "0    Great beach for small children in the Great S...  \n",
       "1    This sandy beach adjacent to Ballard's Inn of...  \n",
       "2    Limited swimming, but great fishing. One of t...  \n",
       "3    The 3-mile stretch that runs from the Surf Ho...  \n",
       "4    Spectacular sandy beach set under cliffs on t...  \n",
       "5    Small, calm-water beach next to Colt State Park.  \n",
       "6    Good sand, surf and rustic pavilion. Popular ...  \n",
       "7             State beach that borders Ninigret Pond.  \n",
       "8         Next to Breachway, with fine sand and surf.  \n",
       "9    (Ninigret Conservation Area) Three-mile state...  \n",
       "10   (Head's Beach) Small beach in Jamestown Shore...  \n",
       "11   Gravelly sand, shallow with exposed sandbar a...  \n",
       "12   Small, stony beach at base of Newport Bridge,...  \n",
       "13   Picturesque, studded with boulders, accessibl...  \n",
       "14   (Little Compton Town Beach) Serene but stony,...  \n",
       "15   (Second Beach) Fine white sand, surf and good...  \n",
       "16    Popular with boaters, windsurfers and families.  \n",
       "17   Often crowded, popular with surfers. Pavilion...  \n",
       "18   (Sand Hill Cove) Shallow, calm beach with lar...  \n",
       "19   Gentle surf, solar- and wind-powered pavilion...  \n",
       "20   (North and South) Stone pavilion, fine sand a...  \n",
       "21   (First Beach) Broad, city-run beach next to C...  \n",
       "22   Small, calm cove in state park. Popular with ...  \n",
       "23   Private beach club on Ocean Drive that is ope...  \n",
       "24   Urban city-run park with playground overlooki...  \n",
       "25                  Calm beach popular with families.  \n",
       "26   Four calm, West Passage beaches on former Nav...  \n",
       "27   (within the John H. Chafee Nature Preserve) A...  \n",
       "28                   Shallow water on Sakonnet River.  \n",
       "29   Tiny, state-owned beach on Park Avenue in Isl...  \n",
       "30   Often crowded, beautiful state beach with str...  \n",
       "31                          Boardwalk and playground.  \n",
       "32   Calm water, popular with windsurfers and fami...  \n",
       "33         Family-friendly beach on the Warren River.  \n",
       "34   (Buttonwoods Beach) Busy city park with play ...  \n",
       "35           Good for sunbathing and view of the Bay.  \n",
       "36   Beach located in one of Rhode Island's premie...  \n",
       "37      Small suburban beach with restaurants nearby.  \n",
       "38                     Lovely beach, limited parking.  \n",
       "39                                                NaN  \n",
       "40   Popular beach with good sand and steady surf,...  \n",
       "41   Popular for nature walks and birding, no life...  \n",
       "42                                  Town-owned beach.  "
      ]
     },
     "execution_count": 28,
     "metadata": {},
     "output_type": "execute_result"
    }
   ],
   "source": [
    "pj"
   ]
  },
  {
   "cell_type": "code",
   "execution_count": null,
   "metadata": {
    "collapsed": true
   },
   "outputs": [],
   "source": []
  },
  {
   "cell_type": "code",
   "execution_count": null,
   "metadata": {
    "collapsed": true
   },
   "outputs": [],
   "source": []
  },
  {
   "cell_type": "code",
   "execution_count": null,
   "metadata": {
    "collapsed": true
   },
   "outputs": [],
   "source": []
  },
  {
   "cell_type": "code",
   "execution_count": null,
   "metadata": {
    "collapsed": true
   },
   "outputs": [],
   "source": []
  },
  {
   "cell_type": "code",
   "execution_count": null,
   "metadata": {
    "collapsed": true
   },
   "outputs": [],
   "source": []
  },
  {
   "cell_type": "code",
   "execution_count": null,
   "metadata": {
    "collapsed": true
   },
   "outputs": [],
   "source": []
  },
  {
   "cell_type": "code",
   "execution_count": null,
   "metadata": {
    "collapsed": true
   },
   "outputs": [],
   "source": []
  },
  {
   "cell_type": "code",
   "execution_count": null,
   "metadata": {
    "collapsed": true
   },
   "outputs": [],
   "source": []
  },
  {
   "cell_type": "code",
   "execution_count": null,
   "metadata": {
    "collapsed": true
   },
   "outputs": [],
   "source": []
  },
  {
   "cell_type": "code",
   "execution_count": 7,
   "metadata": {
    "collapsed": false
   },
   "outputs": [
    {
     "data": {
      "text/plain": [
       "Index(['ADA', 'About_Links', 'Acres_Miles', 'Active Rec', 'Additional_Names',\n",
       "       'Ball Field', 'Basketball Court', 'Beach', 'Bike Path', 'Boating',\n",
       "       'ConsJuri', 'ConsType', 'Contact_Info', 'Contact_Info_Seasonal',\n",
       "       'Description', 'Dogs_Allowed', 'Fishing', 'Football Field',\n",
       "       'GoRI_Incude_Suggestion', 'GoRI_TestFlag', 'GoRI_subset', 'Golf',\n",
       "       'Hunting', 'Ice Hockey Rink', 'LWCFGrant', 'Lat', 'Lon', 'Map_Links',\n",
       "       'Multi-use Field', 'Name', 'NoGoRI_Incude_Why', 'OBJECTID', 'OwnerTyp',\n",
       "       'Picnic_Area', 'Playground', 'Pool', 'RestRoom', 'Short_Description',\n",
       "       'Skate Park', 'Soccer Field', 'StateGrant', 'Steward', 'Street',\n",
       "       'Street_GEO', 'Street_Type', 'Street Hockey Rink', 'Stroller_Friendly',\n",
       "       'Tennis', 'Town', 'Track', 'Trails', 'Type', 'Volleyball Court',\n",
       "       'Walking Path', 'KeyID'],\n",
       "      dtype='object')"
      ]
     },
     "execution_count": 7,
     "metadata": {},
     "output_type": "execute_result"
    }
   ],
   "source": [
    "sg.columns"
   ]
  },
  {
   "cell_type": "code",
   "execution_count": 8,
   "metadata": {
    "collapsed": false
   },
   "outputs": [
    {
     "data": {
      "text/plain": [
       "Providence          25\n",
       "South Kingstown     24\n",
       "Warwick             19\n",
       "North Kingstown     16\n",
       "Exeter              15\n",
       "East Providence     15\n",
       "Coventry            15\n",
       "Lincoln             14\n",
       "Burrillville        14\n",
       "Cranston            14\n",
       "Narragansett        14\n",
       "Portsmouth          13\n",
       "Hopkinton           13\n",
       "Charlestown         11\n",
       "Glocester           11\n",
       "Westerly            11\n",
       "Barrington          11\n",
       "Richmond            10\n",
       "Pawtucket           10\n",
       "West Greenwich      10\n",
       "Newport             10\n",
       "Tiverton             9\n",
       "Bristol              8\n",
       "Woonsocket           8\n",
       "New Shoreham         6\n",
       "Jamestown            6\n",
       "Smithfield           6\n",
       "Scituate             5\n",
       "Middletown           5\n",
       "Warren               5\n",
       "Little Compton       5\n",
       "East Greenwich       4\n",
       "Foster               4\n",
       "North Providence     4\n",
       "North Smithfield     4\n",
       "Cumberland           4\n",
       "Johnston             4\n",
       "West Warwick         4\n",
       "Central Falls        3\n",
       "Name: Town, dtype: int64"
      ]
     },
     "execution_count": 8,
     "metadata": {},
     "output_type": "execute_result"
    }
   ],
   "source": [
    "sg[\"Town\"].value_counts()"
   ]
  },
  {
   "cell_type": "code",
   "execution_count": null,
   "metadata": {
    "collapsed": true
   },
   "outputs": [],
   "source": []
  },
  {
   "cell_type": "code",
   "execution_count": null,
   "metadata": {
    "collapsed": true
   },
   "outputs": [],
   "source": []
  },
  {
   "cell_type": "code",
   "execution_count": null,
   "metadata": {
    "collapsed": true
   },
   "outputs": [],
   "source": []
  }
 ],
 "metadata": {
  "kernelspec": {
   "display_name": "Python 3",
   "language": "python",
   "name": "python3"
  },
  "language_info": {
   "codemirror_mode": {
    "name": "ipython",
    "version": 3
   },
   "file_extension": ".py",
   "mimetype": "text/x-python",
   "name": "python",
   "nbconvert_exporter": "python",
   "pygments_lexer": "ipython3",
   "version": "3.5.1"
  }
 },
 "nbformat": 4,
 "nbformat_minor": 0
}
